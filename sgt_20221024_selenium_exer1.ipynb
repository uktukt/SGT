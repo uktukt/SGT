{
 "cells": [
  {
   "cell_type": "markdown",
   "metadata": {},
   "source": [
    "# easier task\n",
    "# 1. open browser with Selenium\n",
    "# 2. go to https://www.ss.com/en/\n",
    "# 3. navigate to Real Estate section \n",
    "# 4. select some region\n",
    "# 5. open it in for sale section \n",
    "\n",
    "# note of course here we could have gone to the page directly by knowing url\n",
    "# but not all pages have such a simple url\n",
    "\n",
    "# you can start here with just url - if you want to skip the above steps\n",
    "# depends on how much time you have\n",
    "# fill in price range\n",
    "# click search"
   ]
  },
  {
   "cell_type": "code",
   "execution_count": null,
   "metadata": {},
   "outputs": [],
   "source": []
  },
  {
   "cell_type": "code",
   "execution_count": 2,
   "metadata": {},
   "outputs": [
    {
     "name": "stderr",
     "output_type": "stream",
     "text": [
      "C:\\Users\\dovil\\AppData\\Local\\Temp\\ipykernel_12304\\2025523414.py:6: DeprecationWarning: executable_path has been deprecated, please pass in a Service object\n",
      "  browser = webdriver.Chrome(r'C:\\Users\\dovil\\Desktop\\she goes tech\\chromedriver.exe')\n"
     ]
    },
    {
     "ename": "NoSuchWindowException",
     "evalue": "Message: no such window: target window already closed\nfrom unknown error: web view not found\n  (Session info: chrome=106.0.5249.119)\nStacktrace:\nBacktrace:\n\tOrdinal0 [0x00C31ED3+2236115]\n\tOrdinal0 [0x00BC92F1+1807089]\n\tOrdinal0 [0x00AD66FD+812797]\n\tOrdinal0 [0x00ABDFFA+712698]\n\tOrdinal0 [0x00B2506B+1134699]\n\tOrdinal0 [0x00B3514A+1200458]\n\tOrdinal0 [0x00B218A6+1120422]\n\tOrdinal0 [0x00AFA73D+960317]\n\tOrdinal0 [0x00AFB71F+964383]\n\tGetHandleVerifier [0x00EDE7E2+2743074]\n\tGetHandleVerifier [0x00ED08D4+2685972]\n\tGetHandleVerifier [0x00CC2BAA+532202]\n\tGetHandleVerifier [0x00CC1990+527568]\n\tOrdinal0 [0x00BD080C+1837068]\n\tOrdinal0 [0x00BD4CD8+1854680]\n\tOrdinal0 [0x00BD4DC5+1854917]\n\tOrdinal0 [0x00BDED64+1895780]\n\tBaseThreadInitThunk [0x7746FA29+25]\n\tRtlGetAppContainerNamedObjectPath [0x77BC7BBE+286]\n\tRtlGetAppContainerNamedObjectPath [0x77BC7B8E+238]\n",
     "output_type": "error",
     "traceback": [
      "\u001b[1;31m---------------------------------------------------------------------------\u001b[0m",
      "\u001b[1;31mNoSuchWindowException\u001b[0m                     Traceback (most recent call last)",
      "Cell \u001b[1;32mIn [2], line 8\u001b[0m\n\u001b[0;32m      6\u001b[0m browser \u001b[39m=\u001b[39m webdriver\u001b[39m.\u001b[39mChrome(\u001b[39mr\u001b[39m\u001b[39m'\u001b[39m\u001b[39mC:\u001b[39m\u001b[39m\\\u001b[39m\u001b[39mUsers\u001b[39m\u001b[39m\\\u001b[39m\u001b[39mdovil\u001b[39m\u001b[39m\\\u001b[39m\u001b[39mDesktop\u001b[39m\u001b[39m\\\u001b[39m\u001b[39mshe goes tech\u001b[39m\u001b[39m\\\u001b[39m\u001b[39mchromedriver.exe\u001b[39m\u001b[39m'\u001b[39m)\n\u001b[0;32m      7\u001b[0m browser \u001b[39m=\u001b[39m webdriver\u001b[39m.\u001b[39mChrome()\n\u001b[1;32m----> 8\u001b[0m browser\u001b[39m.\u001b[39;49mget(\u001b[39m'\u001b[39;49m\u001b[39mhttp://www.google.com\u001b[39;49m\u001b[39m'\u001b[39;49m)\n\u001b[0;32m      9\u001b[0m \u001b[39massert\u001b[39;00m \u001b[39m'\u001b[39m\u001b[39mGoogle\u001b[39m\u001b[39m'\u001b[39m \u001b[39min\u001b[39;00m browser\u001b[39m.\u001b[39mtitle\n",
      "File \u001b[1;32mc:\\Users\\dovil\\AppData\\Local\\Programs\\Python\\Python310\\lib\\site-packages\\selenium\\webdriver\\remote\\webdriver.py:441\u001b[0m, in \u001b[0;36mWebDriver.get\u001b[1;34m(self, url)\u001b[0m\n\u001b[0;32m    437\u001b[0m \u001b[39mdef\u001b[39;00m \u001b[39mget\u001b[39m(\u001b[39mself\u001b[39m, url: \u001b[39mstr\u001b[39m) \u001b[39m-\u001b[39m\u001b[39m>\u001b[39m \u001b[39mNone\u001b[39;00m:\n\u001b[0;32m    438\u001b[0m     \u001b[39m\"\"\"\u001b[39;00m\n\u001b[0;32m    439\u001b[0m \u001b[39m    Loads a web page in the current browser session.\u001b[39;00m\n\u001b[0;32m    440\u001b[0m \u001b[39m    \"\"\"\u001b[39;00m\n\u001b[1;32m--> 441\u001b[0m     \u001b[39mself\u001b[39;49m\u001b[39m.\u001b[39;49mexecute(Command\u001b[39m.\u001b[39;49mGET, {\u001b[39m'\u001b[39;49m\u001b[39murl\u001b[39;49m\u001b[39m'\u001b[39;49m: url})\n",
      "File \u001b[1;32mc:\\Users\\dovil\\AppData\\Local\\Programs\\Python\\Python310\\lib\\site-packages\\selenium\\webdriver\\remote\\webdriver.py:429\u001b[0m, in \u001b[0;36mWebDriver.execute\u001b[1;34m(self, driver_command, params)\u001b[0m\n\u001b[0;32m    427\u001b[0m response \u001b[39m=\u001b[39m \u001b[39mself\u001b[39m\u001b[39m.\u001b[39mcommand_executor\u001b[39m.\u001b[39mexecute(driver_command, params)\n\u001b[0;32m    428\u001b[0m \u001b[39mif\u001b[39;00m response:\n\u001b[1;32m--> 429\u001b[0m     \u001b[39mself\u001b[39;49m\u001b[39m.\u001b[39;49merror_handler\u001b[39m.\u001b[39;49mcheck_response(response)\n\u001b[0;32m    430\u001b[0m     response[\u001b[39m'\u001b[39m\u001b[39mvalue\u001b[39m\u001b[39m'\u001b[39m] \u001b[39m=\u001b[39m \u001b[39mself\u001b[39m\u001b[39m.\u001b[39m_unwrap_value(\n\u001b[0;32m    431\u001b[0m         response\u001b[39m.\u001b[39mget(\u001b[39m'\u001b[39m\u001b[39mvalue\u001b[39m\u001b[39m'\u001b[39m, \u001b[39mNone\u001b[39;00m))\n\u001b[0;32m    432\u001b[0m     \u001b[39mreturn\u001b[39;00m response\n",
      "File \u001b[1;32mc:\\Users\\dovil\\AppData\\Local\\Programs\\Python\\Python310\\lib\\site-packages\\selenium\\webdriver\\remote\\errorhandler.py:243\u001b[0m, in \u001b[0;36mErrorHandler.check_response\u001b[1;34m(self, response)\u001b[0m\n\u001b[0;32m    241\u001b[0m         alert_text \u001b[39m=\u001b[39m value[\u001b[39m'\u001b[39m\u001b[39malert\u001b[39m\u001b[39m'\u001b[39m]\u001b[39m.\u001b[39mget(\u001b[39m'\u001b[39m\u001b[39mtext\u001b[39m\u001b[39m'\u001b[39m)\n\u001b[0;32m    242\u001b[0m     \u001b[39mraise\u001b[39;00m exception_class(message, screen, stacktrace, alert_text)  \u001b[39m# type: ignore[call-arg]  # mypy is not smart enough here\u001b[39;00m\n\u001b[1;32m--> 243\u001b[0m \u001b[39mraise\u001b[39;00m exception_class(message, screen, stacktrace)\n",
      "\u001b[1;31mNoSuchWindowException\u001b[0m: Message: no such window: target window already closed\nfrom unknown error: web view not found\n  (Session info: chrome=106.0.5249.119)\nStacktrace:\nBacktrace:\n\tOrdinal0 [0x00C31ED3+2236115]\n\tOrdinal0 [0x00BC92F1+1807089]\n\tOrdinal0 [0x00AD66FD+812797]\n\tOrdinal0 [0x00ABDFFA+712698]\n\tOrdinal0 [0x00B2506B+1134699]\n\tOrdinal0 [0x00B3514A+1200458]\n\tOrdinal0 [0x00B218A6+1120422]\n\tOrdinal0 [0x00AFA73D+960317]\n\tOrdinal0 [0x00AFB71F+964383]\n\tGetHandleVerifier [0x00EDE7E2+2743074]\n\tGetHandleVerifier [0x00ED08D4+2685972]\n\tGetHandleVerifier [0x00CC2BAA+532202]\n\tGetHandleVerifier [0x00CC1990+527568]\n\tOrdinal0 [0x00BD080C+1837068]\n\tOrdinal0 [0x00BD4CD8+1854680]\n\tOrdinal0 [0x00BD4DC5+1854917]\n\tOrdinal0 [0x00BDED64+1895780]\n\tBaseThreadInitThunk [0x7746FA29+25]\n\tRtlGetAppContainerNamedObjectPath [0x77BC7BBE+286]\n\tRtlGetAppContainerNamedObjectPath [0x77BC7B8E+238]\n"
     ]
    }
   ],
   "source": [
    "from selenium import webdriver\n",
    "from selenium.webdriver.common.keys import Keys\n",
    "import time\n",
    "\n",
    "browser = webdriver.Chrome()\n",
    "browser = webdriver.Chrome(r'C:\\Users\\dovil\\Desktop\\she goes tech\\chromedriver.exe')\n",
    "browser = webdriver.Chrome()\n",
    "browser.get('http://www.google.com')\n",
    "assert 'Google' in browser.title\n",
    "\n"
   ]
  }
 ],
 "metadata": {
  "kernelspec": {
   "display_name": "Python 3.10.7 64-bit",
   "language": "python",
   "name": "python3"
  },
  "language_info": {
   "codemirror_mode": {
    "name": "ipython",
    "version": 3
   },
   "file_extension": ".py",
   "mimetype": "text/x-python",
   "name": "python",
   "nbconvert_exporter": "python",
   "pygments_lexer": "ipython3",
   "version": "3.10.7"
  },
  "orig_nbformat": 4,
  "vscode": {
   "interpreter": {
    "hash": "b59f46532546b29865c374eeeca43d00bba841fcb2de78eee9c1ff7ff45bdea2"
   }
  }
 },
 "nbformat": 4,
 "nbformat_minor": 2
}
