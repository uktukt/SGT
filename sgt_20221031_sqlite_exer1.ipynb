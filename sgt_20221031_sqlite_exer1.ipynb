{
 "cells": [
  {
   "cell_type": "code",
   "execution_count": null,
   "metadata": {},
   "outputs": [],
   "source": [
    "# TODO\n",
    "# 1. get total sales for all years using invoice table\n",
    "# you will want to use SUBSTR to get the year from the invoice date\n",
    "# you will want to use SUM to get the total sales for each year\n",
    "\n",
    "# 2. get total sales for each country - use invoice table\n",
    "# you will also need to join with the customer table - those have country info\n",
    "\n",
    "# 3. a count tracks in each playlist - use playlist_track table\n",
    "# 3. b extra challenge get total track lenght in minutes for each playlist\n",
    "# you will need to join with the track table\n",
    "# 3. c cherry on top - provide names of these playlists\n",
    "# so you will want to join with the playlist table as well"
   ]
  }
 ],
 "metadata": {
  "language_info": {
   "name": "python"
  },
  "orig_nbformat": 4
 },
 "nbformat": 4,
 "nbformat_minor": 2
}
