{
 "cells": [
  {
   "cell_type": "code",
   "execution_count": 1,
   "metadata": {},
   "outputs": [],
   "source": [
    "# TODO\n",
    "# 1. get total sales for all years using invoice table\n",
    "# you will want to use SUBSTR to get the year from the invoice date\n",
    "# you will want to use SUM to get the total sales for each year\n",
    "\n",
    "# 2. get total sales for each country - use invoice table\n",
    "# you will also need to join with the customer table - those have country info\n",
    "\n",
    "# 3. a count tracks in each playlist - use playlist_track table\n",
    "# 3. b extra challenge get total track lenght in minutes for each playlist\n",
    "# you will need to join with the track table\n",
    "# 3. c cherry on top - provide names of these playlists\n",
    "# so you will want to join with the playlist table as well"
   ]
  },
  {
   "cell_type": "code",
   "execution_count": 2,
   "metadata": {},
   "outputs": [],
   "source": [
    "import sqlite3\n",
    "import pandas as pd"
   ]
  },
  {
   "cell_type": "code",
   "execution_count": 3,
   "metadata": {},
   "outputs": [],
   "source": [
    "class SqliteCRUD:\n",
    "    \n",
    "    # constructor\n",
    "    # called when we create an object of this class\n",
    "    def __init__(self, dbpath):\n",
    "        self.dbpath = dbpath\n",
    "        self.conn = sqlite3.connect(dbpath)\n",
    "        self.cursor = self.conn.cursor()\n",
    "        # print status  \n",
    "        print(f\"Connected to database: {dbpath} Ready to perform CRUD operations!\")\n",
    "    \n",
    "    # destructor - will be called when object is deleted - typically when program ends\n",
    "    def __del__(self):\n",
    "        print(\"Closing connection\")\n",
    "        self.conn.close()\n",
    "    \n",
    "    # get a list of all artists\n",
    "    def read_artists(self):\n",
    "        self.cursor.execute(\"SELECT * FROM artists\")\n",
    "        return self.cursor.fetchall() # returns a list of tuples\n",
    "\n",
    "    def create_artist(self, name):\n",
    "        # notice the parameterized query - for security reasons\n",
    "        self.cursor.execute(\"INSERT INTO artists (name) VALUES (?)\", (name,))\n",
    "        self.conn.commit()\n",
    "        # return self to allow chaining\n",
    "        return self\n",
    "\n",
    "    # insert a list of artists\n",
    "    def create_artists(self, artists):\n",
    "        self.cursor.executemany(\"INSERT INTO artists (name) VALUES (?)\", artists)\n",
    "        # alternative:\n",
    "        # for artist in artists:\n",
    "        #     self.cursor.execute(\"INSERT INTO artists (name) VALUES (?)\", artist)\n",
    "        # should be similar speed as long as we do not have too many artists\n",
    "        # also note how we only commit once\n",
    "        self.conn.commit()\n",
    "        return self\n",
    "\n",
    "    # update artist name\n",
    "    def update_artist_by_id(self, id, new_name):\n",
    "        # again parameterized query for security reasons\n",
    "        self.cursor.execute(\"UPDATE artists SET name = ? WHERE ArtistId = ?\", (new_name, id))\n",
    "        self.conn.commit()\n",
    "        return self\n",
    "\n",
    "    # update arits name by name\n",
    "    def update_artist_by_name(self, old_name, new_name):\n",
    "        # again parameterized query for security reasons\n",
    "        # this could change multiple rows !\n",
    "        self.cursor.execute(\"UPDATE artists SET name = ? WHERE name = ?\", (new_name, old_name))\n",
    "        self.conn.commit()\n",
    "        return self\n",
    "\n",
    "    # let's get tail of artists table\n",
    "    def read_artists_tail(self, n=10):\n",
    "        self.cursor.execute(\"SELECT * FROM artists ORDER BY ArtistId DESC LIMIT ?\", (n,))\n",
    "        return self.cursor.fetchall()\n",
    "\n",
    "    # delete artist by id\n",
    "    def delete_artist_by_id(self, id):\n",
    "        # again parameterized query for security reasons\n",
    "        self.cursor.execute(\"DELETE FROM artists WHERE ArtistId = ?\", (id,))\n",
    "        self.conn.commit()\n",
    "        return self\n",
    "\n",
    "    # delete artist by name\n",
    "    def delete_artist_by_name(self, name):\n",
    "        # again parameterized query for security reasons\n",
    "        self.cursor.execute(\"DELETE FROM artists WHERE name = ?\", (name,))\n",
    "        self.conn.commit()\n",
    "        return self\n",
    "\n",
    "    # return dataframe with all artists\n",
    "    def read_artists_df(self):\n",
    "        # by abstracting this we can change the implementation later\n",
    "        # also we create documentation for this method\n",
    "        return pd.read_sql_query(\"SELECT * FROM artists\", self.conn)\n",
    "\n",
    "    def read_albums_df(self):\n",
    "        return pd.read_sql_query(\"SELECT * FROM albums\", self.conn)\n",
    "\n",
    "    def read_tracks_df(self):\n",
    "        return pd.read_sql_query(\"SELECT * FROM tracks\", self.conn)\n",
    "\n",
    "    def read_album_stats(self):\n",
    "        query = \"\"\"\n",
    "        --how about getting total running length of each album?\n",
    "        SELECT\n",
    "            t.albumid,\n",
    "            a.Title AlbumTitle,\n",
    "            a2.Name ArtistName,\n",
    "            COUNT(trackid),\n",
    "            SUM(Milliseconds)/(1000*60) AlbumLengthMinutes,\n",
    "            AVG(Milliseconds)/(1000*60) AverageSongLengthMin,\n",
    "            MIN(Milliseconds)/(1000*60) ShortestSongMin,\n",
    "            MAX(Milliseconds)/(1000*60) LongestSongMin\n",
    "        FROM\n",
    "            tracks t\n",
    "        JOIN albums a \n",
    "        ON a.AlbumId = t.AlbumId \n",
    "        JOIN artists a2 \n",
    "        ON a.ArtistId = a2.ArtistId \n",
    "        GROUP BY\n",
    "            t.albumid\n",
    "        --SO HAVING is similar to WHERE but we use it in GROUP BY situations\n",
    "        -- disabling HAVING it for DF since we can filter there \n",
    "        -- HAVING AlbumLengthMinutes < 80\n",
    "        ORDER BY AlbumLengthMinutes DESC;\n",
    "        \"\"\"\n",
    "        return pd.read_sql_query(query, self.conn)"
   ]
  },
  {
   "cell_type": "code",
   "execution_count": 4,
   "metadata": {},
   "outputs": [
    {
     "name": "stdout",
     "output_type": "stream",
     "text": [
      "Connected to database: chinook.db Ready to perform CRUD operations!\n"
     ]
    },
    {
     "data": {
      "text/plain": [
       "'chinook.db'"
      ]
     },
     "execution_count": 4,
     "metadata": {},
     "output_type": "execute_result"
    }
   ],
   "source": [
    "db = SqliteCRUD(\"chinook.db\")\n",
    "db.dbpath"
   ]
  },
  {
   "cell_type": "code",
   "execution_count": 5,
   "metadata": {},
   "outputs": [],
   "source": [
    "#del db"
   ]
  },
  {
   "cell_type": "code",
   "execution_count": 6,
   "metadata": {},
   "outputs": [
    {
     "data": {
      "text/plain": [
       "[(1, 'AC/DC'), (2, 'Accept'), (3, 'Aerosmith')]"
      ]
     },
     "execution_count": 6,
     "metadata": {},
     "output_type": "execute_result"
    }
   ],
   "source": [
    "artist_list = db.read_artists()\n",
    "artist_list[:3]"
   ]
  },
  {
   "cell_type": "code",
   "execution_count": 7,
   "metadata": {},
   "outputs": [
    {
     "data": {
      "text/plain": [
       "[(279, 'Lauris Reinikis'), (280, 'Samanta Tīne'), (281, 'David Bowie')]"
      ]
     },
     "execution_count": 7,
     "metadata": {},
     "output_type": "execute_result"
    }
   ],
   "source": [
    "# create a new artist\n",
    "db.create_artist(\"David Bowie\")\n",
    "artist_list = db.read_artists()\n",
    "# last 3 \n",
    "artist_list[-3:]"
   ]
  },
  {
   "cell_type": "code",
   "execution_count": 8,
   "metadata": {},
   "outputs": [
    {
     "data": {
      "text/plain": [
       "[(284, 'Samanta Tīne'),\n",
       " (283, 'Lauris Reinikis'),\n",
       " (282, 'Ansis'),\n",
       " (281, 'David Bowie'),\n",
       " (280, 'Samanta Tīne'),\n",
       " (279, 'Lauris Reinikis'),\n",
       " (278, 'Ansis'),\n",
       " (277, 'David Bowie')]"
      ]
     },
     "execution_count": 8,
     "metadata": {},
     "output_type": "execute_result"
    }
   ],
   "source": [
    "db.create_artist(\"Ansis\")\\\n",
    "    .create_artist(\"Lauris Reinikis\")\\\n",
    "    .create_artist(\"Samanta Tīne\")\\\n",
    "    .read_artists_tail(8)"
   ]
  },
  {
   "cell_type": "code",
   "execution_count": 9,
   "metadata": {},
   "outputs": [
    {
     "data": {
      "text/html": [
       "<div>\n",
       "<style scoped>\n",
       "    .dataframe tbody tr th:only-of-type {\n",
       "        vertical-align: middle;\n",
       "    }\n",
       "\n",
       "    .dataframe tbody tr th {\n",
       "        vertical-align: top;\n",
       "    }\n",
       "\n",
       "    .dataframe thead th {\n",
       "        text-align: right;\n",
       "    }\n",
       "</style>\n",
       "<table border=\"1\" class=\"dataframe\">\n",
       "  <thead>\n",
       "    <tr style=\"text-align: right;\">\n",
       "      <th></th>\n",
       "      <th>AlbumId</th>\n",
       "      <th>AlbumTitle</th>\n",
       "      <th>ArtistName</th>\n",
       "      <th>COUNT(trackid)</th>\n",
       "      <th>AlbumLengthMinutes</th>\n",
       "      <th>AverageSongLengthMin</th>\n",
       "      <th>ShortestSongMin</th>\n",
       "      <th>LongestSongMin</th>\n",
       "    </tr>\n",
       "  </thead>\n",
       "  <tbody>\n",
       "    <tr>\n",
       "      <th>0</th>\n",
       "      <td>229</td>\n",
       "      <td>Lost, Season 3</td>\n",
       "      <td>Lost</td>\n",
       "      <td>26</td>\n",
       "      <td>1177</td>\n",
       "      <td>45.298450</td>\n",
       "      <td>42</td>\n",
       "      <td>84</td>\n",
       "    </tr>\n",
       "    <tr>\n",
       "      <th>1</th>\n",
       "      <td>253</td>\n",
       "      <td>Battlestar Galactica (Classic), Season 1</td>\n",
       "      <td>Battlestar Galactica (Classic)</td>\n",
       "      <td>24</td>\n",
       "      <td>1170</td>\n",
       "      <td>48.759572</td>\n",
       "      <td>47</td>\n",
       "      <td>49</td>\n",
       "    </tr>\n",
       "    <tr>\n",
       "      <th>2</th>\n",
       "      <td>230</td>\n",
       "      <td>Lost, Season 1</td>\n",
       "      <td>Lost</td>\n",
       "      <td>25</td>\n",
       "      <td>1080</td>\n",
       "      <td>43.236624</td>\n",
       "      <td>40</td>\n",
       "      <td>43</td>\n",
       "    </tr>\n",
       "    <tr>\n",
       "      <th>3</th>\n",
       "      <td>231</td>\n",
       "      <td>Lost, Season 2</td>\n",
       "      <td>Lost</td>\n",
       "      <td>24</td>\n",
       "      <td>1054</td>\n",
       "      <td>43.951133</td>\n",
       "      <td>41</td>\n",
       "      <td>47</td>\n",
       "    </tr>\n",
       "    <tr>\n",
       "      <th>4</th>\n",
       "      <td>228</td>\n",
       "      <td>Heroes, Season 1</td>\n",
       "      <td>Heroes</td>\n",
       "      <td>23</td>\n",
       "      <td>996</td>\n",
       "      <td>43.319035</td>\n",
       "      <td>42</td>\n",
       "      <td>44</td>\n",
       "    </tr>\n",
       "  </tbody>\n",
       "</table>\n",
       "</div>"
      ],
      "text/plain": [
       "   AlbumId                                AlbumTitle  \\\n",
       "0      229                            Lost, Season 3   \n",
       "1      253  Battlestar Galactica (Classic), Season 1   \n",
       "2      230                            Lost, Season 1   \n",
       "3      231                            Lost, Season 2   \n",
       "4      228                          Heroes, Season 1   \n",
       "\n",
       "                       ArtistName  COUNT(trackid)  AlbumLengthMinutes  \\\n",
       "0                            Lost              26                1177   \n",
       "1  Battlestar Galactica (Classic)              24                1170   \n",
       "2                            Lost              25                1080   \n",
       "3                            Lost              24                1054   \n",
       "4                          Heroes              23                 996   \n",
       "\n",
       "   AverageSongLengthMin  ShortestSongMin  LongestSongMin  \n",
       "0             45.298450               42              84  \n",
       "1             48.759572               47              49  \n",
       "2             43.236624               40              43  \n",
       "3             43.951133               41              47  \n",
       "4             43.319035               42              44  "
      ]
     },
     "execution_count": 9,
     "metadata": {},
     "output_type": "execute_result"
    }
   ],
   "source": [
    "# get album stats dataframe\n",
    "album_stats_df = db.read_album_stats()\n",
    "album_stats_df.head()"
   ]
  },
  {
   "cell_type": "code",
   "execution_count": 10,
   "metadata": {},
   "outputs": [
    {
     "data": {
      "text/html": [
       "<div>\n",
       "<style scoped>\n",
       "    .dataframe tbody tr th:only-of-type {\n",
       "        vertical-align: middle;\n",
       "    }\n",
       "\n",
       "    .dataframe tbody tr th {\n",
       "        vertical-align: top;\n",
       "    }\n",
       "\n",
       "    .dataframe thead th {\n",
       "        text-align: right;\n",
       "    }\n",
       "</style>\n",
       "<table border=\"1\" class=\"dataframe\">\n",
       "  <thead>\n",
       "    <tr style=\"text-align: right;\">\n",
       "      <th></th>\n",
       "      <th>ArtistId</th>\n",
       "      <th>Name</th>\n",
       "    </tr>\n",
       "  </thead>\n",
       "  <tbody>\n",
       "    <tr>\n",
       "      <th>0</th>\n",
       "      <td>1</td>\n",
       "      <td>AC/DC</td>\n",
       "    </tr>\n",
       "    <tr>\n",
       "      <th>1</th>\n",
       "      <td>2</td>\n",
       "      <td>Accept</td>\n",
       "    </tr>\n",
       "    <tr>\n",
       "      <th>2</th>\n",
       "      <td>3</td>\n",
       "      <td>Aerosmith</td>\n",
       "    </tr>\n",
       "    <tr>\n",
       "      <th>3</th>\n",
       "      <td>4</td>\n",
       "      <td>Alanis Morissette</td>\n",
       "    </tr>\n",
       "    <tr>\n",
       "      <th>4</th>\n",
       "      <td>5</td>\n",
       "      <td>Alice In Chains</td>\n",
       "    </tr>\n",
       "  </tbody>\n",
       "</table>\n",
       "</div>"
      ],
      "text/plain": [
       "   ArtistId               Name\n",
       "0         1              AC/DC\n",
       "1         2             Accept\n",
       "2         3          Aerosmith\n",
       "3         4  Alanis Morissette\n",
       "4         5    Alice In Chains"
      ]
     },
     "execution_count": 10,
     "metadata": {},
     "output_type": "execute_result"
    }
   ],
   "source": [
    "artists_df = db.read_artists_df()\n",
    "artists_df.head()"
   ]
  },
  {
   "cell_type": "code",
   "execution_count": 11,
   "metadata": {},
   "outputs": [
    {
     "data": {
      "text/plain": [
       "[(285, 'David Bowie'), (286, 'Queen'), (287, 'The Beatles')]"
      ]
     },
     "execution_count": 11,
     "metadata": {},
     "output_type": "execute_result"
    }
   ],
   "source": [
    "# a list of single element tuples\n",
    "my_artists = [(\"David Bowie\",), (\"Queen\",), (\"The Beatles\",)]\n",
    "db.create_artists(my_artists)\n",
    "artist_list = db.read_artists()\n",
    "# last 3\n",
    "artist_list[-3:]"
   ]
  }
 ],
 "metadata": {
  "kernelspec": {
   "display_name": "Python 3.10.7 64-bit",
   "language": "python",
   "name": "python3"
  },
  "language_info": {
   "codemirror_mode": {
    "name": "ipython",
    "version": 3
   },
   "file_extension": ".py",
   "mimetype": "text/x-python",
   "name": "python",
   "nbconvert_exporter": "python",
   "pygments_lexer": "ipython3",
   "version": "3.10.7"
  },
  "orig_nbformat": 4,
  "vscode": {
   "interpreter": {
    "hash": "b59f46532546b29865c374eeeca43d00bba841fcb2de78eee9c1ff7ff45bdea2"
   }
  }
 },
 "nbformat": 4,
 "nbformat_minor": 2
}
