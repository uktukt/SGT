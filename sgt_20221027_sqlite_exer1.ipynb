{
 "cells": [
  {
   "cell_type": "code",
   "execution_count": 2,
   "metadata": {},
   "outputs": [],
   "source": [
    "# TODO: the following 5 functions for CRUD(create, read,update,delete) operations that work with sqlite database called chinook.db\n",
    "# def create_connection(dbpath):\n",
    "#   # can add verbose parameter that prints sqlite version used\n",
    "#   return conn\n",
    "# def create_artist(conn, artist_name):\n",
    "   # use parametrized query !\n",
    "#   # do not have to return anything but can use try: inside this function\n",
    "# def read_artists(conn):  # can add some extra parameters to limit\n",
    "#   return artists  # can return a list of tuples, or you can create a list of artist objects if you want\n",
    "# def update_artist(id, new_name):\n",
    "# def delete_artist(id=None, name=\"\"):\n",
    "#    # provide deletion by id AND/OR name\n",
    "# test it by adding you name to artists table smile"
   ]
  },
  {
   "cell_type": "code",
   "execution_count": 3,
   "metadata": {},
   "outputs": [],
   "source": [
    "import sqlite3\n",
    "#import pandas as pd"
   ]
  },
  {
   "cell_type": "code",
   "execution_count": 4,
   "metadata": {},
   "outputs": [],
   "source": [
    "def create_connection(dbpath):\n",
    "    return sqlite3.connect(dbpath)\n",
    "\n",
    "con = create_connection('chinook.db')"
   ]
  },
  {
   "cell_type": "code",
   "execution_count": 5,
   "metadata": {},
   "outputs": [],
   "source": [
    "def create_artist(conn, artist_name):\n",
    "    cur = conn.cursor()\n",
    "    cur.execute('INSERT INTO artists (Name) VALUES (?)', (artist_name,))\n",
    "#create_artist(con, \"The Beatles\") \n",
    "    "
   ]
  },
  {
   "cell_type": "code",
   "execution_count": 6,
   "metadata": {},
   "outputs": [
    {
     "name": "stdout",
     "output_type": "stream",
     "text": [
      "[(1, 'AC/DC'), (2, 'Accept'), (3, 'Aerosmith'), (4, 'Alanis Morissette'), (5, 'Alice In Chains'), (6, 'Antônio Carlos Jobim'), (7, 'Apocalyptica'), (8, 'Audioslave'), (9, 'BackBeat'), (10, 'Billy Cobham')]\n"
     ]
    }
   ],
   "source": [
    "def read_artists(conn, limit=10):\n",
    "    cur = conn.cursor()\n",
    "    cur.execute('select * from artists limit ?', (limit,))\n",
    "    return cur.fetchall()\n",
    "\n",
    "\n",
    "artists = read_artists(con)\n",
    "print(artists)"
   ]
  },
  {
   "cell_type": "code",
   "execution_count": 12,
   "metadata": {},
   "outputs": [
    {
     "name": "stdout",
     "output_type": "stream",
     "text": [
      "[(2, 'Accept'), (3, 'Aerosmith'), (4, 'Alanis Morissette'), (5, 'Alice In Chains'), (6, 'Antônio Carlos Jobim'), (7, 'Apocalyptica'), (8, 'Audioslave'), (9, 'BackBeat'), (10, 'Billy Cobham'), (11, 'Black Label Society')]\n"
     ]
    }
   ],
   "source": [
    "def update_artist(id, new_name):\n",
    "    cur = con.cursor()\n",
    "    cur.execute('UPDATE artists SET Name = ? WHERE ArtistId = ?',\n",
    "                (id, new_name))\n",
    "\n",
    "\n",
    "update_artist(2, \"Queens\")\n",
    "\n",
    "artists = read_artists(con, 10)\n",
    "print(artists)"
   ]
  },
  {
   "cell_type": "code",
   "execution_count": 8,
   "metadata": {},
   "outputs": [],
   "source": [
    "def delete_artist(id=None, name=\"\"):\n",
    "    cur = con.cursor()\n",
    "    cur.execute('DELETE FROM artists WHERE Name = ? OR ArtistId = ?',\n",
    "                (name, id))\n",
    "\n",
    "\n",
    "delete_artist(name=\"AC/DC\")"
   ]
  },
  {
   "cell_type": "code",
   "execution_count": null,
   "metadata": {},
   "outputs": [],
   "source": []
  },
  {
   "cell_type": "code",
   "execution_count": 9,
   "metadata": {},
   "outputs": [
    {
     "name": "stdout",
     "output_type": "stream",
     "text": [
      "[(2, 'Accept'), (3, 'Aerosmith'), (4, 'Alanis Morissette'), (5, 'Alice In Chains'), (6, 'Antônio Carlos Jobim'), (7, 'Apocalyptica'), (8, 'Audioslave'), (9, 'BackBeat'), (10, 'Billy Cobham'), (11, 'Black Label Society')]\n"
     ]
    }
   ],
   "source": [
    "artists = read_artists(con)\n",
    "print(artists)"
   ]
  }
 ],
 "metadata": {
  "kernelspec": {
   "display_name": "Python 3.10.7 64-bit",
   "language": "python",
   "name": "python3"
  },
  "language_info": {
   "codemirror_mode": {
    "name": "ipython",
    "version": 3
   },
   "file_extension": ".py",
   "mimetype": "text/x-python",
   "name": "python",
   "nbconvert_exporter": "python",
   "pygments_lexer": "ipython3",
   "version": "3.10.7"
  },
  "orig_nbformat": 4,
  "vscode": {
   "interpreter": {
    "hash": "b59f46532546b29865c374eeeca43d00bba841fcb2de78eee9c1ff7ff45bdea2"
   }
  }
 },
 "nbformat": 4,
 "nbformat_minor": 2
}
