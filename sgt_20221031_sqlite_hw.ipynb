{
 "cells": [
  {
   "cell_type": "code",
   "execution_count": 42,
   "metadata": {},
   "outputs": [],
   "source": [
    "# TODO \n",
    "# Task 1\n",
    "# provide a query that shows total sales by each sales agent\n",
    "# will require to join with the customer table\n",
    "# will require to join with the invoice table\n",
    "\n",
    "# Task 2\n",
    "# QUERY TO find the top selling track of 2012\n",
    "# will require use track table\n",
    "# will requiret to join with invoice items table\n",
    "# will require to join with the invoice table"
   ]
  },
  {
   "cell_type": "code",
   "execution_count": 43,
   "metadata": {},
   "outputs": [],
   "source": [
    "import sqlite3\n",
    "import pandas as pd"
   ]
  },
  {
   "cell_type": "code",
   "execution_count": 44,
   "metadata": {},
   "outputs": [],
   "source": [
    "class SqliteCRUD:\n",
    "    \n",
    "    # constructor\n",
    "    # called when we create an object of this class\n",
    "    def __init__(self, dbpath):\n",
    "        self.dbpath = dbpath\n",
    "        self.conn = sqlite3.connect(dbpath)\n",
    "        self.cursor = self.conn.cursor()\n",
    "        # print status  \n",
    "        print(f\"Connected to database: {dbpath} Ready to perform CRUD operations!\")\n",
    "    \n",
    "    # destructor - will be called when object is deleted - typically when program ends\n",
    "    def __del__(self):\n",
    "        print(\"Closing connection\")\n",
    "        self.conn.close()\n",
    "\n",
    "    def total_sales(self):\n",
    "        query = \"\"\"\n",
    "        SELECT EmployeeId,\n",
    "\t        e.LastName AS employees,\n",
    "\t        SUM(total) AS Total_sales\t\n",
    "            FROM employees e\n",
    "            JOIN invoices i  ON e.EmployeeId  = i.CustomerId \n",
    "            JOIN customers c  ON e.EmployeeId = c.SupportRepId\n",
    "            GROUP  BY EmployeeId;\n",
    "        \"\"\"\n",
    "        return pd.read_sql_query(query, self.conn)\n",
    "TODO \n",
    "    def top_songs_2012(self):\n",
    "        query = \"\"\"\n",
    "  \n",
    "        \"\"\"\n",
    "        return pd.read_sql_query(query, self.conn)"
   ]
  },
  {
   "cell_type": "code",
   "execution_count": 45,
   "metadata": {},
   "outputs": [
    {
     "name": "stdout",
     "output_type": "stream",
     "text": [
      "Connected to database: chinook.db Ready to perform CRUD operations!\n"
     ]
    },
    {
     "data": {
      "text/plain": [
       "'chinook.db'"
      ]
     },
     "execution_count": 45,
     "metadata": {},
     "output_type": "execute_result"
    }
   ],
   "source": [
    "db = SqliteCRUD(\"chinook.db\")\n",
    "db.dbpath"
   ]
  },
  {
   "cell_type": "code",
   "execution_count": 46,
   "metadata": {},
   "outputs": [
    {
     "data": {
      "text/html": [
       "<div>\n",
       "<style scoped>\n",
       "    .dataframe tbody tr th:only-of-type {\n",
       "        vertical-align: middle;\n",
       "    }\n",
       "\n",
       "    .dataframe tbody tr th {\n",
       "        vertical-align: top;\n",
       "    }\n",
       "\n",
       "    .dataframe thead th {\n",
       "        text-align: right;\n",
       "    }\n",
       "</style>\n",
       "<table border=\"1\" class=\"dataframe\">\n",
       "  <thead>\n",
       "    <tr style=\"text-align: right;\">\n",
       "      <th></th>\n",
       "      <th>Name</th>\n",
       "      <th>InvoiceDate</th>\n",
       "      <th>top_songs_2012</th>\n",
       "    </tr>\n",
       "  </thead>\n",
       "  <tbody>\n",
       "    <tr>\n",
       "      <th>0</th>\n",
       "      <td>Interlude Zumbi</td>\n",
       "      <td>2012-12-07 00:00:00</td>\n",
       "      <td>14</td>\n",
       "    </tr>\n",
       "    <tr>\n",
       "      <th>1</th>\n",
       "      <td>Amazing</td>\n",
       "      <td>2012-11-06 00:00:00</td>\n",
       "      <td>14</td>\n",
       "    </tr>\n",
       "    <tr>\n",
       "      <th>2</th>\n",
       "      <td>Salutations</td>\n",
       "      <td>2012-10-06 00:00:00</td>\n",
       "      <td>14</td>\n",
       "    </tr>\n",
       "    <tr>\n",
       "      <th>3</th>\n",
       "      <td>Unchained</td>\n",
       "      <td>2012-09-05 00:00:00</td>\n",
       "      <td>14</td>\n",
       "    </tr>\n",
       "    <tr>\n",
       "      <th>4</th>\n",
       "      <td>Crossroads, Pt. 1</td>\n",
       "      <td>2012-08-05 00:00:00</td>\n",
       "      <td>14</td>\n",
       "    </tr>\n",
       "  </tbody>\n",
       "</table>\n",
       "</div>"
      ],
      "text/plain": [
       "                Name          InvoiceDate  top_songs_2012\n",
       "0    Interlude Zumbi  2012-12-07 00:00:00              14\n",
       "1            Amazing  2012-11-06 00:00:00              14\n",
       "2        Salutations  2012-10-06 00:00:00              14\n",
       "3          Unchained  2012-09-05 00:00:00              14\n",
       "4  Crossroads, Pt. 1  2012-08-05 00:00:00              14"
      ]
     },
     "execution_count": 46,
     "metadata": {},
     "output_type": "execute_result"
    }
   ],
   "source": [
    "total_sales_df = db.total_sales()\n",
    "total_sales_df.head()"
   ]
  }
 ],
 "metadata": {
  "kernelspec": {
   "display_name": "Python 3.10.7 64-bit",
   "language": "python",
   "name": "python3"
  },
  "language_info": {
   "codemirror_mode": {
    "name": "ipython",
    "version": 3
   },
   "file_extension": ".py",
   "mimetype": "text/x-python",
   "name": "python",
   "nbconvert_exporter": "python",
   "pygments_lexer": "ipython3",
   "version": "3.10.7"
  },
  "orig_nbformat": 4,
  "vscode": {
   "interpreter": {
    "hash": "b59f46532546b29865c374eeeca43d00bba841fcb2de78eee9c1ff7ff45bdea2"
   }
  }
 },
 "nbformat": 4,
 "nbformat_minor": 2
}
