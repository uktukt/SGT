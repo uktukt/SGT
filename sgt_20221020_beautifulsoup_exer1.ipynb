{
 "cells": [
  {
   "cell_type": "code",
   "execution_count": 2,
   "metadata": {},
   "outputs": [],
   "source": [
    "# TODO in class\n",
    "# install BeautifulSoup if you do not have it already\n",
    "# pip install beautifulsoup4 \n",
    "# note the 4 at the end\n",
    "# find two URLs that you want to scrape on SS.com\n",
    "# scrape the data from the first page\n",
    "# scrape the data from the second page\n",
    "# you can use the functions I provided in the class\n",
    "\n",
    "# save both as csv files\n",
    "# and make plot of the data - up to you what you want to plot"
   ]
  },
  {
   "cell_type": "code",
   "execution_count": 3,
   "metadata": {},
   "outputs": [],
   "source": [
    "import pandas as pd\n",
    "from bs4 import BeautifulSoup\n",
    "import requests\n",
    "import time"
   ]
  },
  {
   "cell_type": "code",
   "execution_count": 4,
   "metadata": {},
   "outputs": [],
   "source": [
    "url = \"https://www.ss.com/en/animals/cats/\""
   ]
  },
  {
   "cell_type": "code",
   "execution_count": 33,
   "metadata": {},
   "outputs": [
    {
     "data": {
      "text/plain": [
       "200"
      ]
     },
     "execution_count": 33,
     "metadata": {},
     "output_type": "execute_result"
    }
   ],
   "source": [
    "req = requests.get(url)\n",
    "req.status_code"
   ]
  },
  {
   "cell_type": "code",
   "execution_count": 9,
   "metadata": {},
   "outputs": [],
   "source": [
    "soup = BeautifulSoup(req.text, 'lxml')\n",
    "soup.title"
   ]
  },
  {
   "cell_type": "code",
   "execution_count": 10,
   "metadata": {},
   "outputs": [
    {
     "data": {
      "text/plain": [
       "'\\n\\xa0Advertisements\\r\\n\\n\\n\\ndate\\n'"
      ]
     },
     "execution_count": 10,
     "metadata": {},
     "output_type": "execute_result"
    }
   ],
   "source": [
    "tables = soup.find_all(\"table\")\n",
    "headline = soup.find(\"tr\", {\"id\":\"head_line\"})\n",
    "headtds = headline.find_all(\"td\")\n",
    "headline.text\n",
    "headtds[0].text"
   ]
  },
  {
   "cell_type": "code",
   "execution_count": 12,
   "metadata": {},
   "outputs": [
    {
     "data": {
      "text/plain": [
       "['Breed', 'Age', 'Price']"
      ]
     },
     "execution_count": 12,
     "metadata": {},
     "output_type": "execute_result"
    }
   ],
   "source": [
    "headcolumns = [el.text for el in headtds[1:]]\n",
    "headcolumns"
   ]
  },
  {
   "cell_type": "code",
   "execution_count": 15,
   "metadata": {},
   "outputs": [],
   "source": [
    "def getColList(soup):\n",
    "    column_list = [\"description\",\"url\"] # we decided to that we need these two column names no matter the html\n",
    "    headline = soup.find(\"tr\", {\"id\":\"head_line\"})\n",
    "    headtds = headline.find_all(\"td\")\n",
    "    headcolumns = [el.text for el in headtds[1:]] # this will get all column names starting with 2nd in HTML\n",
    "    column_list += headcolumns\n",
    "    return column_list"
   ]
  },
  {
   "cell_type": "code",
   "execution_count": 18,
   "metadata": {},
   "outputs": [
    {
     "data": {
      "text/plain": [
       "['description', 'url', 'Breed', 'Age', 'Price']"
      ]
     },
     "execution_count": 18,
     "metadata": {},
     "output_type": "execute_result"
    }
   ],
   "source": [
    "column_names = getColList(soup)\n",
    "column_names"
   ]
  },
  {
   "cell_type": "code",
   "execution_count": 19,
   "metadata": {},
   "outputs": [],
   "source": [
    "trows = soup.find_all('tr')"
   ]
  },
  {
   "cell_type": "code",
   "execution_count": 20,
   "metadata": {},
   "outputs": [],
   "source": [
    "rows = [row for row in trows if row.get('id',\"\").startswith(\"tr_\") and not row.get('id',\"\").startswith(\"tr_bnr\") ]"
   ]
  },
  {
   "cell_type": "code",
   "execution_count": 21,
   "metadata": {},
   "outputs": [],
   "source": [
    "def getRowList(soup):\n",
    "    trows = soup.find_all('tr')\n",
    "    aprows = [row for row in trows if row.get('id',\"\").startswith(\"tr_\") and not row.get('id',\"\").startswith(\"tr_bnr\") ]\n",
    "    return aprows"
   ]
  },
  {
   "cell_type": "code",
   "execution_count": 22,
   "metadata": {},
   "outputs": [],
   "source": [
    "rows = getRowList(soup)"
   ]
  },
  {
   "cell_type": "code",
   "execution_count": 23,
   "metadata": {},
   "outputs": [],
   "source": [
    "first_ad = rows[0]"
   ]
  },
  {
   "cell_type": "code",
   "execution_count": 35,
   "metadata": {},
   "outputs": [
    {
     "data": {
      "text/plain": [
       "[<td class=\"msga2 pp0\"><input id=\"c51617380\" name=\"mid[]\" type=\"checkbox\" value=\"51617380_75037_0\"/></td>,\n",
       " <td class=\"msga2\"><a href=\"/msg/en/animals/cats/scottish-fold/bpdexo.html\" id=\"im51617380\"><img alt=\"\" class=\"isfoto foto_list\" src=\"https://i.ss.com/gallery/5/975/243596/48719066.th2.jpg\"/></a></td>]"
      ]
     },
     "execution_count": 35,
     "metadata": {},
     "output_type": "execute_result"
    }
   ],
   "source": [
    "row_tds = first_ad.find_all('td')\n",
    "row_tds[:2]"
   ]
  },
  {
   "cell_type": "code",
   "execution_count": 26,
   "metadata": {},
   "outputs": [],
   "source": [
    "def getRow(row,colist=column_names):\n",
    "    row_tds = row.find_all('td')\n",
    "    rowDict = {}\n",
    "    if len(row_tds) < 3: # a little sanity check\n",
    "        print(\"Hmm bad row\")\n",
    "        return rowDict\n",
    "    \n",
    "    rowDict[colist[0]] = row_tds[2].text # so the big assumption is that we always get description in 3rd column\n",
    "    rowDict[colist[1]] = \"https://ss.com\" + row_tds[1].find('a').get('href')\n",
    "    for td,key in zip(row_tds[3:],colist[2:]): \n",
    "        rowDict[key] = td.text\n",
    "    return rowDict"
   ]
  },
  {
   "cell_type": "code",
   "execution_count": 27,
   "metadata": {},
   "outputs": [
    {
     "data": {
      "text/plain": [
       "{'description': 'Šis strīpainis skaistulis ir nopietns kaķu kungs. \\r\\nBet neskatoties uz visu nopietnību, Jelgava and reg.',\n",
       " 'url': 'https://ss.com/msg/en/animals/cats/outbred/jhmck.html',\n",
       " 'Breed': 'Outbred',\n",
       " 'Age': '5 years',\n",
       " 'Price': '70  €'}"
      ]
     },
     "execution_count": 27,
     "metadata": {},
     "output_type": "execute_result"
    }
   ],
   "source": [
    "getRow(rows[6])"
   ]
  },
  {
   "cell_type": "code",
   "execution_count": 28,
   "metadata": {},
   "outputs": [],
   "source": [
    "def getRows(rowlist,colist=column_names):\n",
    "    return [getRow(row, colist=colist) for row in rowlist]"
   ]
  },
  {
   "cell_type": "code",
   "execution_count": 29,
   "metadata": {},
   "outputs": [],
   "source": [
    "def getDFfromURL(url):\n",
    "    \n",
    "    req = requests.get(url)\n",
    "    if req.status_code != 200:\n",
    "        print(\"Request Fail with\", req.status_code)\n",
    "        return None \n",
    "    soup = BeautifulSoup(req.text, 'lxml')\n",
    "    column_names = getColList(soup)\n",
    "    rowlist = getRowList(soup)\n",
    "    rows = getRows(rowlist,colist=column_names)\n",
    "    return pd.DataFrame(rows, columns=column_names)"
   ]
  },
  {
   "cell_type": "code",
   "execution_count": 30,
   "metadata": {},
   "outputs": [
    {
     "data": {
      "text/html": [
       "<div>\n",
       "<style scoped>\n",
       "    .dataframe tbody tr th:only-of-type {\n",
       "        vertical-align: middle;\n",
       "    }\n",
       "\n",
       "    .dataframe tbody tr th {\n",
       "        vertical-align: top;\n",
       "    }\n",
       "\n",
       "    .dataframe thead th {\n",
       "        text-align: right;\n",
       "    }\n",
       "</style>\n",
       "<table border=\"1\" class=\"dataframe\">\n",
       "  <thead>\n",
       "    <tr style=\"text-align: right;\">\n",
       "      <th></th>\n",
       "      <th>description</th>\n",
       "      <th>url</th>\n",
       "      <th>Breed</th>\n",
       "      <th>Age</th>\n",
       "      <th>Price</th>\n",
       "    </tr>\n",
       "  </thead>\n",
       "  <tbody>\n",
       "    <tr>\n",
       "      <th>0</th>\n",
       "      <td>Отдаю за пожертвование идеального котика, кото...</td>\n",
       "      <td>https://ss.com/msg/en/animals/cats/unknown-bre...</td>\n",
       "      <td>Unknown breed</td>\n",
       "      <td>5 years</td>\n",
       "      <td>-</td>\n",
       "    </tr>\n",
       "    <tr>\n",
       "      <th>1</th>\n",
       "      <td>Pārdodu divus kaķu trauciņusRiga</td>\n",
       "      <td>https://ss.com/msg/en/animals/cats/accessories...</td>\n",
       "      <td>-</td>\n",
       "      <td>-</td>\n",
       "      <td>20  €</td>\n",
       "    </tr>\n",
       "    <tr>\n",
       "      <th>2</th>\n",
       "      <td>Отдам котят в хорошие руки.Daugavpils and reg.</td>\n",
       "      <td>https://ss.com/msg/en/animals/cats/outbred/cxp...</td>\n",
       "      <td>Outbred</td>\n",
       "      <td>1 mon.</td>\n",
       "      <td>-</td>\n",
       "    </tr>\n",
       "    <tr>\n",
       "      <th>3</th>\n",
       "      <td>Piedāvājam tīršķirnes Skotu fold meitenīti ar ...</td>\n",
       "      <td>https://ss.com/msg/en/animals/cats/scottish-fo...</td>\n",
       "      <td>Scottish fold</td>\n",
       "      <td>2 mon.</td>\n",
       "      <td>500  €</td>\n",
       "    </tr>\n",
       "    <tr>\n",
       "      <th>4</th>\n",
       "      <td>Balti-melna kaķenīte ir mīļuma iemiesojums. \\r...</td>\n",
       "      <td>https://ss.com/msg/en/animals/cats/outbred/jgh...</td>\n",
       "      <td>Outbred</td>\n",
       "      <td>2 years</td>\n",
       "      <td>70  €</td>\n",
       "    </tr>\n",
       "  </tbody>\n",
       "</table>\n",
       "</div>"
      ],
      "text/plain": [
       "                                         description  \\\n",
       "0  Отдаю за пожертвование идеального котика, кото...   \n",
       "1                   Pārdodu divus kaķu trauciņusRiga   \n",
       "2     Отдам котят в хорошие руки.Daugavpils and reg.   \n",
       "3  Piedāvājam tīršķirnes Skotu fold meitenīti ar ...   \n",
       "4  Balti-melna kaķenīte ir mīļuma iemiesojums. \\r...   \n",
       "\n",
       "                                                 url          Breed      Age  \\\n",
       "0  https://ss.com/msg/en/animals/cats/unknown-bre...  Unknown breed  5 years   \n",
       "1  https://ss.com/msg/en/animals/cats/accessories...              -        -   \n",
       "2  https://ss.com/msg/en/animals/cats/outbred/cxp...        Outbred   1 mon.   \n",
       "3  https://ss.com/msg/en/animals/cats/scottish-fo...  Scottish fold   2 mon.   \n",
       "4  https://ss.com/msg/en/animals/cats/outbred/jgh...        Outbred  2 years   \n",
       "\n",
       "    Price  \n",
       "0       -  \n",
       "1   20  €  \n",
       "2       -  \n",
       "3  500  €  \n",
       "4   70  €  "
      ]
     },
     "execution_count": 30,
     "metadata": {},
     "output_type": "execute_result"
    }
   ],
   "source": [
    "cats = url\n",
    "idf = getDFfromURL(cats)\n",
    "idf.head()"
   ]
  },
  {
   "cell_type": "code",
   "execution_count": 31,
   "metadata": {},
   "outputs": [],
   "source": [
    "idf.to_csv(\"cats.csv\")"
   ]
  },
  {
   "cell_type": "code",
   "execution_count": 32,
   "metadata": {},
   "outputs": [
    {
     "data": {
      "text/html": [
       "<div>\n",
       "<style scoped>\n",
       "    .dataframe tbody tr th:only-of-type {\n",
       "        vertical-align: middle;\n",
       "    }\n",
       "\n",
       "    .dataframe tbody tr th {\n",
       "        vertical-align: top;\n",
       "    }\n",
       "\n",
       "    .dataframe thead th {\n",
       "        text-align: right;\n",
       "    }\n",
       "</style>\n",
       "<table border=\"1\" class=\"dataframe\">\n",
       "  <thead>\n",
       "    <tr style=\"text-align: right;\">\n",
       "      <th></th>\n",
       "      <th>Unnamed: 0</th>\n",
       "      <th>description</th>\n",
       "      <th>url</th>\n",
       "      <th>Breed</th>\n",
       "      <th>Age</th>\n",
       "      <th>Price</th>\n",
       "    </tr>\n",
       "  </thead>\n",
       "  <tbody>\n",
       "    <tr>\n",
       "      <th>0</th>\n",
       "      <td>0</td>\n",
       "      <td>Отдаю за пожертвование идеального котика, кото...</td>\n",
       "      <td>https://ss.com/msg/en/animals/cats/unknown-bre...</td>\n",
       "      <td>Unknown breed</td>\n",
       "      <td>5 years</td>\n",
       "      <td>-</td>\n",
       "    </tr>\n",
       "    <tr>\n",
       "      <th>1</th>\n",
       "      <td>1</td>\n",
       "      <td>Pārdodu divus kaķu trauciņusRiga</td>\n",
       "      <td>https://ss.com/msg/en/animals/cats/accessories...</td>\n",
       "      <td>-</td>\n",
       "      <td>-</td>\n",
       "      <td>20  €</td>\n",
       "    </tr>\n",
       "    <tr>\n",
       "      <th>2</th>\n",
       "      <td>2</td>\n",
       "      <td>Отдам котят в хорошие руки.Daugavpils and reg.</td>\n",
       "      <td>https://ss.com/msg/en/animals/cats/outbred/cxp...</td>\n",
       "      <td>Outbred</td>\n",
       "      <td>1 mon.</td>\n",
       "      <td>-</td>\n",
       "    </tr>\n",
       "    <tr>\n",
       "      <th>3</th>\n",
       "      <td>3</td>\n",
       "      <td>Piedāvājam tīršķirnes Skotu fold meitenīti ar ...</td>\n",
       "      <td>https://ss.com/msg/en/animals/cats/scottish-fo...</td>\n",
       "      <td>Scottish fold</td>\n",
       "      <td>2 mon.</td>\n",
       "      <td>500  €</td>\n",
       "    </tr>\n",
       "    <tr>\n",
       "      <th>4</th>\n",
       "      <td>4</td>\n",
       "      <td>Balti-melna kaķenīte ir mīļuma iemiesojums. \\r...</td>\n",
       "      <td>https://ss.com/msg/en/animals/cats/outbred/jgh...</td>\n",
       "      <td>Outbred</td>\n",
       "      <td>2 years</td>\n",
       "      <td>70  €</td>\n",
       "    </tr>\n",
       "    <tr>\n",
       "      <th>5</th>\n",
       "      <td>5</td>\n",
       "      <td>Вот такой красавчик рыжий с розовым носиком до...</td>\n",
       "      <td>https://ss.com/msg/en/animals/cats/outbred/odn...</td>\n",
       "      <td>Outbred</td>\n",
       "      <td>1 years</td>\n",
       "      <td>70  €</td>\n",
       "    </tr>\n",
       "    <tr>\n",
       "      <th>6</th>\n",
       "      <td>6</td>\n",
       "      <td>”Es tik ļoti ilgojos pēc cilvēka mīlestības, t...</td>\n",
       "      <td>https://ss.com/msg/en/animals/cats/outbred/jbb...</td>\n",
       "      <td>Outbred</td>\n",
       "      <td>5 years</td>\n",
       "      <td>70  €</td>\n",
       "    </tr>\n",
       "    <tr>\n",
       "      <th>7</th>\n",
       "      <td>7</td>\n",
       "      <td>Rudulis ir īsts skaistulis un mīļuma iemiesoju...</td>\n",
       "      <td>https://ss.com/msg/en/animals/cats/outbred/kxn...</td>\n",
       "      <td>Outbred</td>\n",
       "      <td>4 years</td>\n",
       "      <td>70  €</td>\n",
       "    </tr>\n",
       "    <tr>\n",
       "      <th>8</th>\n",
       "      <td>8</td>\n",
       "      <td>Kuplā kažociņa īpašniece meklē savas mājas. \\r...</td>\n",
       "      <td>https://ss.com/msg/en/animals/cats/outbred/hff...</td>\n",
       "      <td>Outbred</td>\n",
       "      <td>1.5 years</td>\n",
       "      <td>70  €</td>\n",
       "    </tr>\n",
       "    <tr>\n",
       "      <th>9</th>\n",
       "      <td>9</td>\n",
       "      <td>Šis strīpainis skaistulis ir nopietns kaķu kun...</td>\n",
       "      <td>https://ss.com/msg/en/animals/cats/outbred/jhm...</td>\n",
       "      <td>Outbred</td>\n",
       "      <td>5 years</td>\n",
       "      <td>70  €</td>\n",
       "    </tr>\n",
       "    <tr>\n",
       "      <th>10</th>\n",
       "      <td>10</td>\n",
       "      <td>Saņēmuši visas vajadzīgās potes, mums ir Wcf c...</td>\n",
       "      <td>https://ss.com/msg/en/animals/cats/british-lon...</td>\n",
       "      <td>British longhair</td>\n",
       "      <td>4 mon.</td>\n",
       "      <td>300  €</td>\n",
       "    </tr>\n",
       "    <tr>\n",
       "      <th>11</th>\n",
       "      <td>11</td>\n",
       "      <td>Wcf reģistrēta kaķu audzētava piedāva ļoti mīļ...</td>\n",
       "      <td>https://ss.com/msg/en/animals/cats/maine-coon/...</td>\n",
       "      <td>Maine coon</td>\n",
       "      <td>4 mon.</td>\n",
       "      <td>900  €</td>\n",
       "    </tr>\n",
       "    <tr>\n",
       "      <th>12</th>\n",
       "      <td>12</td>\n",
       "      <td>Британец это аристократизм, интелект. Зипо-оче...</td>\n",
       "      <td>https://ss.com/msg/en/animals/cats/british-sho...</td>\n",
       "      <td>British shorthair</td>\n",
       "      <td>12 mon.</td>\n",
       "      <td>500  €</td>\n",
       "    </tr>\n",
       "    <tr>\n",
       "      <th>13</th>\n",
       "      <td>13</td>\n",
       "      <td>Малыш Лис ищет дом. Малыш невероятно ласковый....</td>\n",
       "      <td>https://ss.com/msg/en/animals/cats/outbred/jpc...</td>\n",
       "      <td>Outbred</td>\n",
       "      <td>5 mon.</td>\n",
       "      <td>20  €</td>\n",
       "    </tr>\n",
       "    <tr>\n",
       "      <th>14</th>\n",
       "      <td>14</td>\n",
       "      <td>Вот такая, неземная, красота, по имени Сима, и...</td>\n",
       "      <td>https://ss.com/msg/en/animals/cats/outbred/ale...</td>\n",
       "      <td>Outbred</td>\n",
       "      <td>12 mon.</td>\n",
       "      <td>100  €</td>\n",
       "    </tr>\n",
       "    <tr>\n",
       "      <th>15</th>\n",
       "      <td>15</td>\n",
       "      <td>Британец-это сильный, крепкий, добрый и умный ...</td>\n",
       "      <td>https://ss.com/msg/en/animals/cats/british-sho...</td>\n",
       "      <td>British shorthair</td>\n",
       "      <td>9 mon.</td>\n",
       "      <td>700  €</td>\n",
       "    </tr>\n",
       "    <tr>\n",
       "      <th>16</th>\n",
       "      <td>16</td>\n",
       "      <td>Здоровенькая, шустренькая розовая девочка, гот...</td>\n",
       "      <td>https://ss.com/msg/en/animals/cats/don-sphynx/...</td>\n",
       "      <td>Don sphynx</td>\n",
       "      <td>2.5 mon.</td>\n",
       "      <td>380  €</td>\n",
       "    </tr>\n",
       "    <tr>\n",
       "      <th>17</th>\n",
       "      <td>17</td>\n",
       "      <td>Две милые девочки - прекрасные представительни...</td>\n",
       "      <td>https://ss.com/msg/en/animals/cats/british-sho...</td>\n",
       "      <td>British shorthair</td>\n",
       "      <td>3 mon.</td>\n",
       "      <td>220  €</td>\n",
       "    </tr>\n",
       "    <tr>\n",
       "      <th>18</th>\n",
       "      <td>18</td>\n",
       "      <td>Runčuks vārdā “Mazais” - viens no astainīšiem,...</td>\n",
       "      <td>https://ss.com/msg/en/animals/cats/outbred/bbd...</td>\n",
       "      <td>Outbred</td>\n",
       "      <td>4 years</td>\n",
       "      <td>70  €</td>\n",
       "    </tr>\n",
       "    <tr>\n",
       "      <th>19</th>\n",
       "      <td>19</td>\n",
       "      <td>Остались 2 которебёнка , мальчик и девочка. Ко...</td>\n",
       "      <td>https://ss.com/msg/en/animals/cats/outbred/eel...</td>\n",
       "      <td>Outbred</td>\n",
       "      <td>2 mon.</td>\n",
       "      <td>20  €</td>\n",
       "    </tr>\n",
       "    <tr>\n",
       "      <th>20</th>\n",
       "      <td>20</td>\n",
       "      <td>Великолепная красавица Мия ищет дом. Девочка з...</td>\n",
       "      <td>https://ss.com/msg/en/animals/cats/neva-masque...</td>\n",
       "      <td>Neva masquerade</td>\n",
       "      <td>18 mon.</td>\n",
       "      <td>50  €</td>\n",
       "    </tr>\n",
       "    <tr>\n",
       "      <th>21</th>\n",
       "      <td>21</td>\n",
       "      <td>Девочка очень красивая, нежная, ласковая, выра...</td>\n",
       "      <td>https://ss.com/msg/en/animals/cats/british-lon...</td>\n",
       "      <td>British longhair</td>\n",
       "      <td>3 mon.</td>\n",
       "      <td>220  €</td>\n",
       "    </tr>\n",
       "    <tr>\n",
       "      <th>22</th>\n",
       "      <td>22</td>\n",
       "      <td>Fantastiski skaistas māsiņas gaida savu saimni...</td>\n",
       "      <td>https://ss.com/msg/en/animals/cats/british-lon...</td>\n",
       "      <td>British longhair</td>\n",
       "      <td>6 mon.</td>\n",
       "      <td>200  €</td>\n",
       "    </tr>\n",
       "    <tr>\n",
       "      <th>23</th>\n",
       "      <td>23</td>\n",
       "      <td>Britu kaķu audzētava piedāvā ļoti mīlīgu kaķēn...</td>\n",
       "      <td>https://ss.com/msg/en/animals/cats/british-lon...</td>\n",
       "      <td>British longhair</td>\n",
       "      <td>4 mon.</td>\n",
       "      <td>400  €</td>\n",
       "    </tr>\n",
       "    <tr>\n",
       "      <th>24</th>\n",
       "      <td>24</td>\n",
       "      <td>Sertificēta Wcf audzētava rezervācijai piedāvā...</td>\n",
       "      <td>https://ss.com/msg/en/animals/cats/scottish-fo...</td>\n",
       "      <td>Scottish fold</td>\n",
       "      <td>1.5 mon.</td>\n",
       "      <td>500  €</td>\n",
       "    </tr>\n",
       "    <tr>\n",
       "      <th>25</th>\n",
       "      <td>25</td>\n",
       "      <td>Mazais rudais puisītis ir jaunu, mīlošu un atb...</td>\n",
       "      <td>https://ss.com/msg/en/animals/cats/outbred/ion...</td>\n",
       "      <td>Outbred</td>\n",
       "      <td>3 mon.</td>\n",
       "      <td>30  €</td>\n",
       "    </tr>\n",
       "    <tr>\n",
       "      <th>26</th>\n",
       "      <td>26</td>\n",
       "      <td>Готовы к переезду в вашу семью котята ориентал...</td>\n",
       "      <td>https://ss.com/msg/en/animals/cats/oriental/bc...</td>\n",
       "      <td>Oriental</td>\n",
       "      <td>2 mon.</td>\n",
       "      <td>400  €</td>\n",
       "    </tr>\n",
       "    <tr>\n",
       "      <th>27</th>\n",
       "      <td>27</td>\n",
       "      <td>Meklēju jaunas mājas 6 gadus vecai kaķenei. Pē...</td>\n",
       "      <td>https://ss.com/msg/en/animals/cats/british-sho...</td>\n",
       "      <td>British shorthair</td>\n",
       "      <td>6 years</td>\n",
       "      <td>-</td>\n",
       "    </tr>\n",
       "    <tr>\n",
       "      <th>28</th>\n",
       "      <td>28</td>\n",
       "      <td>Skaisti kaķēni, spilgti bengaļu šķirnes pārstā...</td>\n",
       "      <td>https://ss.com/msg/en/animals/cats/bengal/cbdh...</td>\n",
       "      <td>Bengal</td>\n",
       "      <td>2 mon.</td>\n",
       "      <td>600  €</td>\n",
       "    </tr>\n",
       "    <tr>\n",
       "      <th>29</th>\n",
       "      <td>29</td>\n",
       "      <td>Mīļi, draudzīgi un veselīgi kaķēni varētu būt ...</td>\n",
       "      <td>https://ss.com/msg/en/animals/cats/outbred/jcx...</td>\n",
       "      <td>Outbred</td>\n",
       "      <td>2 mon.</td>\n",
       "      <td>1  €</td>\n",
       "    </tr>\n",
       "  </tbody>\n",
       "</table>\n",
       "</div>"
      ],
      "text/plain": [
       "    Unnamed: 0                                        description  \\\n",
       "0            0  Отдаю за пожертвование идеального котика, кото...   \n",
       "1            1                   Pārdodu divus kaķu trauciņusRiga   \n",
       "2            2     Отдам котят в хорошие руки.Daugavpils and reg.   \n",
       "3            3  Piedāvājam tīršķirnes Skotu fold meitenīti ar ...   \n",
       "4            4  Balti-melna kaķenīte ir mīļuma iemiesojums. \\r...   \n",
       "5            5  Вот такой красавчик рыжий с розовым носиком до...   \n",
       "6            6  ”Es tik ļoti ilgojos pēc cilvēka mīlestības, t...   \n",
       "7            7  Rudulis ir īsts skaistulis un mīļuma iemiesoju...   \n",
       "8            8  Kuplā kažociņa īpašniece meklē savas mājas. \\r...   \n",
       "9            9  Šis strīpainis skaistulis ir nopietns kaķu kun...   \n",
       "10          10  Saņēmuši visas vajadzīgās potes, mums ir Wcf c...   \n",
       "11          11  Wcf reģistrēta kaķu audzētava piedāva ļoti mīļ...   \n",
       "12          12  Британец это аристократизм, интелект. Зипо-оче...   \n",
       "13          13  Малыш Лис ищет дом. Малыш невероятно ласковый....   \n",
       "14          14  Вот такая, неземная, красота, по имени Сима, и...   \n",
       "15          15  Британец-это сильный, крепкий, добрый и умный ...   \n",
       "16          16  Здоровенькая, шустренькая розовая девочка, гот...   \n",
       "17          17  Две милые девочки - прекрасные представительни...   \n",
       "18          18  Runčuks vārdā “Mazais” - viens no astainīšiem,...   \n",
       "19          19  Остались 2 которебёнка , мальчик и девочка. Ко...   \n",
       "20          20  Великолепная красавица Мия ищет дом. Девочка з...   \n",
       "21          21  Девочка очень красивая, нежная, ласковая, выра...   \n",
       "22          22  Fantastiski skaistas māsiņas gaida savu saimni...   \n",
       "23          23  Britu kaķu audzētava piedāvā ļoti mīlīgu kaķēn...   \n",
       "24          24  Sertificēta Wcf audzētava rezervācijai piedāvā...   \n",
       "25          25  Mazais rudais puisītis ir jaunu, mīlošu un atb...   \n",
       "26          26  Готовы к переезду в вашу семью котята ориентал...   \n",
       "27          27  Meklēju jaunas mājas 6 gadus vecai kaķenei. Pē...   \n",
       "28          28  Skaisti kaķēni, spilgti bengaļu šķirnes pārstā...   \n",
       "29          29  Mīļi, draudzīgi un veselīgi kaķēni varētu būt ...   \n",
       "\n",
       "                                                  url              Breed  \\\n",
       "0   https://ss.com/msg/en/animals/cats/unknown-bre...      Unknown breed   \n",
       "1   https://ss.com/msg/en/animals/cats/accessories...                  -   \n",
       "2   https://ss.com/msg/en/animals/cats/outbred/cxp...            Outbred   \n",
       "3   https://ss.com/msg/en/animals/cats/scottish-fo...      Scottish fold   \n",
       "4   https://ss.com/msg/en/animals/cats/outbred/jgh...            Outbred   \n",
       "5   https://ss.com/msg/en/animals/cats/outbred/odn...            Outbred   \n",
       "6   https://ss.com/msg/en/animals/cats/outbred/jbb...            Outbred   \n",
       "7   https://ss.com/msg/en/animals/cats/outbred/kxn...            Outbred   \n",
       "8   https://ss.com/msg/en/animals/cats/outbred/hff...            Outbred   \n",
       "9   https://ss.com/msg/en/animals/cats/outbred/jhm...            Outbred   \n",
       "10  https://ss.com/msg/en/animals/cats/british-lon...   British longhair   \n",
       "11  https://ss.com/msg/en/animals/cats/maine-coon/...         Maine coon   \n",
       "12  https://ss.com/msg/en/animals/cats/british-sho...  British shorthair   \n",
       "13  https://ss.com/msg/en/animals/cats/outbred/jpc...            Outbred   \n",
       "14  https://ss.com/msg/en/animals/cats/outbred/ale...            Outbred   \n",
       "15  https://ss.com/msg/en/animals/cats/british-sho...  British shorthair   \n",
       "16  https://ss.com/msg/en/animals/cats/don-sphynx/...         Don sphynx   \n",
       "17  https://ss.com/msg/en/animals/cats/british-sho...  British shorthair   \n",
       "18  https://ss.com/msg/en/animals/cats/outbred/bbd...            Outbred   \n",
       "19  https://ss.com/msg/en/animals/cats/outbred/eel...            Outbred   \n",
       "20  https://ss.com/msg/en/animals/cats/neva-masque...    Neva masquerade   \n",
       "21  https://ss.com/msg/en/animals/cats/british-lon...   British longhair   \n",
       "22  https://ss.com/msg/en/animals/cats/british-lon...   British longhair   \n",
       "23  https://ss.com/msg/en/animals/cats/british-lon...   British longhair   \n",
       "24  https://ss.com/msg/en/animals/cats/scottish-fo...      Scottish fold   \n",
       "25  https://ss.com/msg/en/animals/cats/outbred/ion...            Outbred   \n",
       "26  https://ss.com/msg/en/animals/cats/oriental/bc...           Oriental   \n",
       "27  https://ss.com/msg/en/animals/cats/british-sho...  British shorthair   \n",
       "28  https://ss.com/msg/en/animals/cats/bengal/cbdh...             Bengal   \n",
       "29  https://ss.com/msg/en/animals/cats/outbred/jcx...            Outbred   \n",
       "\n",
       "          Age   Price  \n",
       "0     5 years       -  \n",
       "1           -   20  €  \n",
       "2      1 mon.       -  \n",
       "3      2 mon.  500  €  \n",
       "4     2 years   70  €  \n",
       "5     1 years   70  €  \n",
       "6     5 years   70  €  \n",
       "7     4 years   70  €  \n",
       "8   1.5 years   70  €  \n",
       "9     5 years   70  €  \n",
       "10     4 mon.  300  €  \n",
       "11     4 mon.  900  €  \n",
       "12    12 mon.  500  €  \n",
       "13     5 mon.   20  €  \n",
       "14    12 mon.  100  €  \n",
       "15     9 mon.  700  €  \n",
       "16   2.5 mon.  380  €  \n",
       "17     3 mon.  220  €  \n",
       "18    4 years   70  €  \n",
       "19     2 mon.   20  €  \n",
       "20    18 mon.   50  €  \n",
       "21     3 mon.  220  €  \n",
       "22     6 mon.  200  €  \n",
       "23     4 mon.  400  €  \n",
       "24   1.5 mon.  500  €  \n",
       "25     3 mon.   30  €  \n",
       "26     2 mon.  400  €  \n",
       "27    6 years       -  \n",
       "28     2 mon.  600  €  \n",
       "29     2 mon.    1  €  "
      ]
     },
     "execution_count": 32,
     "metadata": {},
     "output_type": "execute_result"
    }
   ],
   "source": [
    "cats = pd.read_csv(r\"C:\\Users\\dovil\\Desktop\\she goes tech\\SGT\\cats.csv\")\n",
    "cats"
   ]
  }
 ],
 "metadata": {
  "kernelspec": {
   "display_name": "Python 3.10.7 64-bit",
   "language": "python",
   "name": "python3"
  },
  "language_info": {
   "codemirror_mode": {
    "name": "ipython",
    "version": 3
   },
   "file_extension": ".py",
   "mimetype": "text/x-python",
   "name": "python",
   "nbconvert_exporter": "python",
   "pygments_lexer": "ipython3",
   "version": "3.10.7"
  },
  "orig_nbformat": 4,
  "vscode": {
   "interpreter": {
    "hash": "b59f46532546b29865c374eeeca43d00bba841fcb2de78eee9c1ff7ff45bdea2"
   }
  }
 },
 "nbformat": 4,
 "nbformat_minor": 2
}
