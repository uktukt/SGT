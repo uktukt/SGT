{
 "cells": [
  {
   "cell_type": "code",
   "execution_count": 67,
   "metadata": {},
   "outputs": [],
   "source": [
    "# TODO scrape any car data from ss.com\n",
    "# clean up prices as numerics\n",
    "# group by make and model\n",
    "# plot the data - pricing for sure"
   ]
  },
  {
   "cell_type": "code",
   "execution_count": 68,
   "metadata": {},
   "outputs": [],
   "source": [
    "import pandas as pd\n",
    "from bs4 import BeautifulSoup\n",
    "import requests\n",
    "import time\n",
    "import matplotlib.pyplot as plt\n",
    "import numpy as np\n",
    "import seaborn as sns"
   ]
  },
  {
   "cell_type": "code",
   "execution_count": 69,
   "metadata": {},
   "outputs": [],
   "source": [
    "url = \"https://www.ss.com/en/transport/cars/dacia/sell/\""
   ]
  },
  {
   "cell_type": "code",
   "execution_count": 70,
   "metadata": {},
   "outputs": [
    {
     "data": {
      "text/plain": [
       "200"
      ]
     },
     "execution_count": 70,
     "metadata": {},
     "output_type": "execute_result"
    }
   ],
   "source": [
    "req = requests.get(url)\n",
    "req.status_code"
   ]
  },
  {
   "cell_type": "code",
   "execution_count": 71,
   "metadata": {},
   "outputs": [
    {
     "data": {
      "text/plain": [
       "<title>SS.COM Cars - Dacia, Prices, Sell - Advertisements</title>"
      ]
     },
     "execution_count": 71,
     "metadata": {},
     "output_type": "execute_result"
    }
   ],
   "source": [
    "soup = BeautifulSoup(req.text, 'lxml')\n",
    "soup.title"
   ]
  },
  {
   "cell_type": "code",
   "execution_count": 72,
   "metadata": {},
   "outputs": [
    {
     "data": {
      "text/plain": [
       "'\\n\\xa0Advertisements\\r\\n\\n\\n\\ndate\\n'"
      ]
     },
     "execution_count": 72,
     "metadata": {},
     "output_type": "execute_result"
    }
   ],
   "source": [
    "tables = soup.find_all(\"table\")\n",
    "headline = soup.find(\"tr\", {\"id\":\"head_line\"})\n",
    "headtds = headline.find_all(\"td\")\n",
    "headline.text\n",
    "headtds[0].text"
   ]
  },
  {
   "cell_type": "code",
   "execution_count": 73,
   "metadata": {},
   "outputs": [
    {
     "data": {
      "text/plain": [
       "['Model', 'Year', 'Volume', 'Run', 'Price']"
      ]
     },
     "execution_count": 73,
     "metadata": {},
     "output_type": "execute_result"
    }
   ],
   "source": [
    "headcolumns = [el.text for el in headtds[1:]]\n",
    "headcolumns"
   ]
  },
  {
   "cell_type": "code",
   "execution_count": 74,
   "metadata": {},
   "outputs": [],
   "source": [
    "def getColList(soup):\n",
    "    column_list = [\"description\",\"url\"] # we decided to that we need these two column names no matter the html\n",
    "    headline = soup.find(\"tr\", {\"id\":\"head_line\"})\n",
    "    headtds = headline.find_all(\"td\")\n",
    "    headcolumns = [el.text for el in headtds[1:]] # this will get all column names starting with 2nd in HTML\n",
    "    column_list += headcolumns\n",
    "    return column_list"
   ]
  },
  {
   "cell_type": "code",
   "execution_count": 75,
   "metadata": {},
   "outputs": [
    {
     "data": {
      "text/plain": [
       "['description', 'url', 'Model', 'Year', 'Volume', 'Run', 'Price']"
      ]
     },
     "execution_count": 75,
     "metadata": {},
     "output_type": "execute_result"
    }
   ],
   "source": [
    "column_names = getColList(soup)\n",
    "column_names"
   ]
  },
  {
   "cell_type": "code",
   "execution_count": 76,
   "metadata": {},
   "outputs": [],
   "source": [
    "trows = soup.find_all('tr')"
   ]
  },
  {
   "cell_type": "code",
   "execution_count": 77,
   "metadata": {},
   "outputs": [],
   "source": [
    "rows = [row for row in trows if row.get('id',\"\").startswith(\"tr_\") and not row.get('id',\"\").startswith(\"tr_bnr\") ]"
   ]
  },
  {
   "cell_type": "code",
   "execution_count": 78,
   "metadata": {},
   "outputs": [],
   "source": [
    "def getRowList(soup):\n",
    "    trows = soup.find_all('tr')\n",
    "    aprows = [row for row in trows if row.get('id',\"\").startswith(\"tr_\") and not row.get('id',\"\").startswith(\"tr_bnr\") ]\n",
    "    return aprows"
   ]
  },
  {
   "cell_type": "code",
   "execution_count": 79,
   "metadata": {},
   "outputs": [],
   "source": [
    "rows = getRowList(soup)"
   ]
  },
  {
   "cell_type": "code",
   "execution_count": 80,
   "metadata": {},
   "outputs": [],
   "source": [
    "first_ad = rows[0]"
   ]
  },
  {
   "cell_type": "code",
   "execution_count": 81,
   "metadata": {},
   "outputs": [],
   "source": [
    "row_tds = first_ad.find_all('td')"
   ]
  },
  {
   "cell_type": "code",
   "execution_count": 82,
   "metadata": {},
   "outputs": [],
   "source": [
    "def getRow(row,colist=column_names):\n",
    "    row_tds = row.find_all('td')\n",
    "    rowDict = {}\n",
    "    if len(row_tds) < 3: # a little sanity check\n",
    "        print(\"Hmm bad row\")\n",
    "        return rowDict\n",
    "    \n",
    "    rowDict[colist[0]] = row_tds[2].text # so the big assumption is that we always get description in 3rd column\n",
    "    rowDict[colist[1]] = \"https://ss.com\" + row_tds[1].find('a').get('href')\n",
    "    for td,key in zip(row_tds[3:],colist[2:]): \n",
    "        rowDict[key] = td.text\n",
    "    return rowDict"
   ]
  },
  {
   "cell_type": "code",
   "execution_count": 83,
   "metadata": {},
   "outputs": [
    {
     "data": {
      "text/plain": [
       "{'description': 'Dacia Sandero Stepway Tce 100zs, benzīns/Lpg gāze, 6mt, komplektācija Comfor',\n",
       " 'url': 'https://ss.com/msg/en/transport/cars/dacia/sandero/bllnek.html',\n",
       " 'Model': 'Sandero',\n",
       " 'Year': '2022',\n",
       " 'Volume': '1.0',\n",
       " 'Run': '6.5 thd.',\n",
       " 'Price': '17,660  €'}"
      ]
     },
     "execution_count": 83,
     "metadata": {},
     "output_type": "execute_result"
    }
   ],
   "source": [
    "getRow(rows[6])"
   ]
  },
  {
   "cell_type": "code",
   "execution_count": 84,
   "metadata": {},
   "outputs": [],
   "source": [
    "def getRows(rowlist,colist=column_names):\n",
    "    return [getRow(row, colist=colist) for row in rowlist]"
   ]
  },
  {
   "cell_type": "code",
   "execution_count": 85,
   "metadata": {},
   "outputs": [],
   "source": [
    "def getDFfromURL(url):\n",
    "    \n",
    "    req = requests.get(url)\n",
    "    if req.status_code != 200:\n",
    "        print(\"Request Fail with\", req.status_code)\n",
    "        return None \n",
    "    soup = BeautifulSoup(req.text, 'lxml')\n",
    "    column_names = getColList(soup)\n",
    "    rowlist = getRowList(soup)\n",
    "    rows = getRows(rowlist,colist=column_names)\n",
    "    return pd.DataFrame(rows, columns=column_names)"
   ]
  },
  {
   "cell_type": "code",
   "execution_count": 86,
   "metadata": {},
   "outputs": [
    {
     "data": {
      "text/html": [
       "<div>\n",
       "<style scoped>\n",
       "    .dataframe tbody tr th:only-of-type {\n",
       "        vertical-align: middle;\n",
       "    }\n",
       "\n",
       "    .dataframe tbody tr th {\n",
       "        vertical-align: top;\n",
       "    }\n",
       "\n",
       "    .dataframe thead th {\n",
       "        text-align: right;\n",
       "    }\n",
       "</style>\n",
       "<table border=\"1\" class=\"dataframe\">\n",
       "  <thead>\n",
       "    <tr style=\"text-align: right;\">\n",
       "      <th></th>\n",
       "      <th>description</th>\n",
       "      <th>url</th>\n",
       "      <th>Model</th>\n",
       "      <th>Year</th>\n",
       "      <th>Volume</th>\n",
       "      <th>Run</th>\n",
       "      <th>Price</th>\n",
       "    </tr>\n",
       "  </thead>\n",
       "  <tbody>\n",
       "    <tr>\n",
       "      <th>0</th>\n",
       "      <td>Mašīna teicamā kartībā, ekonomiska (degvielas ...</td>\n",
       "      <td>https://ss.com/msg/en/transport/cars/dacia/san...</td>\n",
       "      <td>Sandero</td>\n",
       "      <td>2022</td>\n",
       "      <td>1.0</td>\n",
       "      <td>14 thd.</td>\n",
       "      <td>15,600  €</td>\n",
       "    </tr>\n",
       "    <tr>\n",
       "      <th>1</th>\n",
       "      <td>Automašīna no Vācijas Latvijā netika izmantota...</td>\n",
       "      <td>https://ss.com/msg/en/transport/cars/dacia/dus...</td>\n",
       "      <td>Duster</td>\n",
       "      <td>2013</td>\n",
       "      <td>1.6</td>\n",
       "      <td>121 thd.</td>\n",
       "      <td>7,490  €</td>\n",
       "    </tr>\n",
       "    <tr>\n",
       "      <th>2</th>\n",
       "      <td>1.5 dīzelis 81kw. 4x4 pilnpiediņa. Auto pirkts...</td>\n",
       "      <td>https://ss.com/msg/en/transport/cars/dacia/dus...</td>\n",
       "      <td>Duster</td>\n",
       "      <td>2012</td>\n",
       "      <td>1.5D</td>\n",
       "      <td>237 thd.</td>\n",
       "      <td>5,900  €</td>\n",
       "    </tr>\n",
       "    <tr>\n",
       "      <th>3</th>\n",
       "      <td>Automašīna braucamā stāvoklī ar manāmiem defek...</td>\n",
       "      <td>https://ss.com/msg/en/transport/cars/dacia/log...</td>\n",
       "      <td>Logan</td>\n",
       "      <td>2006</td>\n",
       "      <td>1.6</td>\n",
       "      <td>110 thd.</td>\n",
       "      <td>600  €</td>\n",
       "    </tr>\n",
       "    <tr>\n",
       "      <th>4</th>\n",
       "      <td>Jaunais Dacia Jogger LE Extreme 110Tce 7-seats...</td>\n",
       "      <td>https://ss.com/msg/en/transport/cars/dacia/ano...</td>\n",
       "      <td>Another</td>\n",
       "      <td>2022</td>\n",
       "      <td>1.0</td>\n",
       "      <td>5</td>\n",
       "      <td>23,200  €</td>\n",
       "    </tr>\n",
       "  </tbody>\n",
       "</table>\n",
       "</div>"
      ],
      "text/plain": [
       "                                         description  \\\n",
       "0  Mašīna teicamā kartībā, ekonomiska (degvielas ...   \n",
       "1  Automašīna no Vācijas Latvijā netika izmantota...   \n",
       "2  1.5 dīzelis 81kw. 4x4 pilnpiediņa. Auto pirkts...   \n",
       "3  Automašīna braucamā stāvoklī ar manāmiem defek...   \n",
       "4  Jaunais Dacia Jogger LE Extreme 110Tce 7-seats...   \n",
       "\n",
       "                                                 url    Model  Year Volume  \\\n",
       "0  https://ss.com/msg/en/transport/cars/dacia/san...  Sandero  2022    1.0   \n",
       "1  https://ss.com/msg/en/transport/cars/dacia/dus...   Duster  2013    1.6   \n",
       "2  https://ss.com/msg/en/transport/cars/dacia/dus...   Duster  2012   1.5D   \n",
       "3  https://ss.com/msg/en/transport/cars/dacia/log...    Logan  2006    1.6   \n",
       "4  https://ss.com/msg/en/transport/cars/dacia/ano...  Another  2022    1.0   \n",
       "\n",
       "        Run      Price  \n",
       "0   14 thd.  15,600  €  \n",
       "1  121 thd.   7,490  €  \n",
       "2  237 thd.   5,900  €  \n",
       "3  110 thd.     600  €  \n",
       "4         5  23,200  €  "
      ]
     },
     "execution_count": 86,
     "metadata": {},
     "output_type": "execute_result"
    }
   ],
   "source": [
    "cars_dacia = url\n",
    "idf = getDFfromURL(cars_dacia)\n",
    "idf.head()"
   ]
  },
  {
   "cell_type": "code",
   "execution_count": 87,
   "metadata": {},
   "outputs": [],
   "source": [
    "idf.to_csv(\"cars_dacia_20221023.csv\")"
   ]
  },
  {
   "cell_type": "code",
   "execution_count": 88,
   "metadata": {},
   "outputs": [],
   "source": [
    "dacia_df = pd.read_csv(r\"C:\\Users\\dovil\\Desktop\\she goes tech\\SGT\\cars_dacia_20221023.csv\")\n",
    "dacia_df_ed = dacia_df.copy\n"
   ]
  },
  {
   "cell_type": "code",
   "execution_count": 89,
   "metadata": {},
   "outputs": [
    {
     "data": {
      "text/plain": [
       "count       30.00\n",
       "mean     8,930.43\n",
       "std      6,252.51\n",
       "min        600.00\n",
       "25%      4,248.75\n",
       "50%      6,699.50\n",
       "75%     14,687.50\n",
       "max     23,200.00\n",
       "Name: Price, dtype: float64"
      ]
     },
     "execution_count": 89,
     "metadata": {},
     "output_type": "execute_result"
    }
   ],
   "source": [
    "dacia_df['Price'] = dacia_df['Price'].str.replace(\"€\",\"\")\n",
    "dacia_df['Price'] = dacia_df['Price'].str.replace(\",\",\"\")\n",
    "dacia_df.Price.head()\n",
    "dacia_df['Price'] = pd.to_numeric(dacia_df['Price'], errors='coerce')\n",
    "\n",
    "pd.options.display.float_format = '{:,.2f}'.format\n",
    "dacia_df['Price'].describe()"
   ]
  },
  {
   "cell_type": "code",
   "execution_count": 90,
   "metadata": {},
   "outputs": [
    {
     "data": {
      "text/html": [
       "<div>\n",
       "<style scoped>\n",
       "    .dataframe tbody tr th:only-of-type {\n",
       "        vertical-align: middle;\n",
       "    }\n",
       "\n",
       "    .dataframe tbody tr th {\n",
       "        vertical-align: top;\n",
       "    }\n",
       "\n",
       "    .dataframe thead th {\n",
       "        text-align: right;\n",
       "    }\n",
       "</style>\n",
       "<table border=\"1\" class=\"dataframe\">\n",
       "  <thead>\n",
       "    <tr style=\"text-align: right;\">\n",
       "      <th></th>\n",
       "      <th>count</th>\n",
       "      <th>mean</th>\n",
       "      <th>std</th>\n",
       "      <th>min</th>\n",
       "      <th>25%</th>\n",
       "      <th>50%</th>\n",
       "      <th>75%</th>\n",
       "      <th>max</th>\n",
       "    </tr>\n",
       "    <tr>\n",
       "      <th>Year</th>\n",
       "      <th></th>\n",
       "      <th></th>\n",
       "      <th></th>\n",
       "      <th></th>\n",
       "      <th></th>\n",
       "      <th></th>\n",
       "      <th></th>\n",
       "      <th></th>\n",
       "    </tr>\n",
       "  </thead>\n",
       "  <tbody>\n",
       "    <tr>\n",
       "      <th>2006</th>\n",
       "      <td>1.00</td>\n",
       "      <td>600.00</td>\n",
       "      <td>NaN</td>\n",
       "      <td>600.00</td>\n",
       "      <td>600.00</td>\n",
       "      <td>600.00</td>\n",
       "      <td>600.00</td>\n",
       "      <td>600.00</td>\n",
       "    </tr>\n",
       "    <tr>\n",
       "      <th>2007</th>\n",
       "      <td>2.00</td>\n",
       "      <td>1,270.00</td>\n",
       "      <td>169.71</td>\n",
       "      <td>1,150.00</td>\n",
       "      <td>1,210.00</td>\n",
       "      <td>1,270.00</td>\n",
       "      <td>1,330.00</td>\n",
       "      <td>1,390.00</td>\n",
       "    </tr>\n",
       "    <tr>\n",
       "      <th>2008</th>\n",
       "      <td>2.00</td>\n",
       "      <td>3,000.00</td>\n",
       "      <td>2,121.32</td>\n",
       "      <td>1,500.00</td>\n",
       "      <td>2,250.00</td>\n",
       "      <td>3,000.00</td>\n",
       "      <td>3,750.00</td>\n",
       "      <td>4,500.00</td>\n",
       "    </tr>\n",
       "    <tr>\n",
       "      <th>2010</th>\n",
       "      <td>2.00</td>\n",
       "      <td>3,455.00</td>\n",
       "      <td>1,081.87</td>\n",
       "      <td>2,690.00</td>\n",
       "      <td>3,072.50</td>\n",
       "      <td>3,455.00</td>\n",
       "      <td>3,837.50</td>\n",
       "      <td>4,220.00</td>\n",
       "    </tr>\n",
       "    <tr>\n",
       "      <th>2011</th>\n",
       "      <td>3.00</td>\n",
       "      <td>5,961.67</td>\n",
       "      <td>1,640.63</td>\n",
       "      <td>4,235.00</td>\n",
       "      <td>5,192.50</td>\n",
       "      <td>6,150.00</td>\n",
       "      <td>6,825.00</td>\n",
       "      <td>7,500.00</td>\n",
       "    </tr>\n",
       "    <tr>\n",
       "      <th>2012</th>\n",
       "      <td>1.00</td>\n",
       "      <td>5,900.00</td>\n",
       "      <td>NaN</td>\n",
       "      <td>5,900.00</td>\n",
       "      <td>5,900.00</td>\n",
       "      <td>5,900.00</td>\n",
       "      <td>5,900.00</td>\n",
       "      <td>5,900.00</td>\n",
       "    </tr>\n",
       "    <tr>\n",
       "      <th>2013</th>\n",
       "      <td>4.00</td>\n",
       "      <td>5,735.00</td>\n",
       "      <td>1,789.94</td>\n",
       "      <td>3,600.00</td>\n",
       "      <td>4,612.50</td>\n",
       "      <td>5,925.00</td>\n",
       "      <td>7,047.50</td>\n",
       "      <td>7,490.00</td>\n",
       "    </tr>\n",
       "    <tr>\n",
       "      <th>2014</th>\n",
       "      <td>1.00</td>\n",
       "      <td>4,290.00</td>\n",
       "      <td>NaN</td>\n",
       "      <td>4,290.00</td>\n",
       "      <td>4,290.00</td>\n",
       "      <td>4,290.00</td>\n",
       "      <td>4,290.00</td>\n",
       "      <td>4,290.00</td>\n",
       "    </tr>\n",
       "    <tr>\n",
       "      <th>2015</th>\n",
       "      <td>2.00</td>\n",
       "      <td>5,974.50</td>\n",
       "      <td>741.76</td>\n",
       "      <td>5,450.00</td>\n",
       "      <td>5,712.25</td>\n",
       "      <td>5,974.50</td>\n",
       "      <td>6,236.75</td>\n",
       "      <td>6,499.00</td>\n",
       "    </tr>\n",
       "    <tr>\n",
       "      <th>2018</th>\n",
       "      <td>3.00</td>\n",
       "      <td>12,599.67</td>\n",
       "      <td>2,762.81</td>\n",
       "      <td>9,499.00</td>\n",
       "      <td>11,499.50</td>\n",
       "      <td>13,500.00</td>\n",
       "      <td>14,150.00</td>\n",
       "      <td>14,800.00</td>\n",
       "    </tr>\n",
       "    <tr>\n",
       "      <th>2019</th>\n",
       "      <td>4.00</td>\n",
       "      <td>14,560.00</td>\n",
       "      <td>534.85</td>\n",
       "      <td>13,900.00</td>\n",
       "      <td>14,237.50</td>\n",
       "      <td>14,670.00</td>\n",
       "      <td>14,992.50</td>\n",
       "      <td>15,000.00</td>\n",
       "    </tr>\n",
       "    <tr>\n",
       "      <th>2020</th>\n",
       "      <td>1.00</td>\n",
       "      <td>17,700.00</td>\n",
       "      <td>NaN</td>\n",
       "      <td>17,700.00</td>\n",
       "      <td>17,700.00</td>\n",
       "      <td>17,700.00</td>\n",
       "      <td>17,700.00</td>\n",
       "      <td>17,700.00</td>\n",
       "    </tr>\n",
       "    <tr>\n",
       "      <th>2022</th>\n",
       "      <td>4.00</td>\n",
       "      <td>18,790.00</td>\n",
       "      <td>3,209.84</td>\n",
       "      <td>15,600.00</td>\n",
       "      <td>17,145.00</td>\n",
       "      <td>18,180.00</td>\n",
       "      <td>19,825.00</td>\n",
       "      <td>23,200.00</td>\n",
       "    </tr>\n",
       "  </tbody>\n",
       "</table>\n",
       "</div>"
      ],
      "text/plain": [
       "      count      mean      std       min       25%       50%       75%  \\\n",
       "Year                                                                     \n",
       "2006   1.00    600.00      NaN    600.00    600.00    600.00    600.00   \n",
       "2007   2.00  1,270.00   169.71  1,150.00  1,210.00  1,270.00  1,330.00   \n",
       "2008   2.00  3,000.00 2,121.32  1,500.00  2,250.00  3,000.00  3,750.00   \n",
       "2010   2.00  3,455.00 1,081.87  2,690.00  3,072.50  3,455.00  3,837.50   \n",
       "2011   3.00  5,961.67 1,640.63  4,235.00  5,192.50  6,150.00  6,825.00   \n",
       "2012   1.00  5,900.00      NaN  5,900.00  5,900.00  5,900.00  5,900.00   \n",
       "2013   4.00  5,735.00 1,789.94  3,600.00  4,612.50  5,925.00  7,047.50   \n",
       "2014   1.00  4,290.00      NaN  4,290.00  4,290.00  4,290.00  4,290.00   \n",
       "2015   2.00  5,974.50   741.76  5,450.00  5,712.25  5,974.50  6,236.75   \n",
       "2018   3.00 12,599.67 2,762.81  9,499.00 11,499.50 13,500.00 14,150.00   \n",
       "2019   4.00 14,560.00   534.85 13,900.00 14,237.50 14,670.00 14,992.50   \n",
       "2020   1.00 17,700.00      NaN 17,700.00 17,700.00 17,700.00 17,700.00   \n",
       "2022   4.00 18,790.00 3,209.84 15,600.00 17,145.00 18,180.00 19,825.00   \n",
       "\n",
       "           max  \n",
       "Year            \n",
       "2006    600.00  \n",
       "2007  1,390.00  \n",
       "2008  4,500.00  \n",
       "2010  4,220.00  \n",
       "2011  7,500.00  \n",
       "2012  5,900.00  \n",
       "2013  7,490.00  \n",
       "2014  4,290.00  \n",
       "2015  6,499.00  \n",
       "2018 14,800.00  \n",
       "2019 15,000.00  \n",
       "2020 17,700.00  \n",
       "2022 23,200.00  "
      ]
     },
     "execution_count": 90,
     "metadata": {},
     "output_type": "execute_result"
    }
   ],
   "source": [
    "dacia_df.groupby(['Year']).describe()['Price']"
   ]
  },
  {
   "cell_type": "code",
   "execution_count": 91,
   "metadata": {},
   "outputs": [
    {
     "name": "stderr",
     "output_type": "stream",
     "text": [
      "C:\\Users\\dovil\\AppData\\Local\\Temp\\ipykernel_24504\\4162443445.py:1: FutureWarning: The default value of regex will change from True to False in a future version.\n",
      "  dacia_df['Run'] = dacia_df['Run'].str.replace(\"thd.\",\"\")\n"
     ]
    },
    {
     "data": {
      "text/html": [
       "<div>\n",
       "<style scoped>\n",
       "    .dataframe tbody tr th:only-of-type {\n",
       "        vertical-align: middle;\n",
       "    }\n",
       "\n",
       "    .dataframe tbody tr th {\n",
       "        vertical-align: top;\n",
       "    }\n",
       "\n",
       "    .dataframe thead th {\n",
       "        text-align: right;\n",
       "    }\n",
       "</style>\n",
       "<table border=\"1\" class=\"dataframe\">\n",
       "  <thead>\n",
       "    <tr style=\"text-align: right;\">\n",
       "      <th></th>\n",
       "      <th>count</th>\n",
       "      <th>mean</th>\n",
       "      <th>std</th>\n",
       "      <th>min</th>\n",
       "      <th>25%</th>\n",
       "      <th>50%</th>\n",
       "      <th>75%</th>\n",
       "      <th>max</th>\n",
       "    </tr>\n",
       "    <tr>\n",
       "      <th>Year</th>\n",
       "      <th></th>\n",
       "      <th></th>\n",
       "      <th></th>\n",
       "      <th></th>\n",
       "      <th></th>\n",
       "      <th></th>\n",
       "      <th></th>\n",
       "      <th></th>\n",
       "    </tr>\n",
       "  </thead>\n",
       "  <tbody>\n",
       "    <tr>\n",
       "      <th>2006</th>\n",
       "      <td>1.00</td>\n",
       "      <td>110.00</td>\n",
       "      <td>NaN</td>\n",
       "      <td>110.00</td>\n",
       "      <td>110.00</td>\n",
       "      <td>110.00</td>\n",
       "      <td>110.00</td>\n",
       "      <td>110.00</td>\n",
       "    </tr>\n",
       "    <tr>\n",
       "      <th>2007</th>\n",
       "      <td>1.00</td>\n",
       "      <td>236.00</td>\n",
       "      <td>NaN</td>\n",
       "      <td>236.00</td>\n",
       "      <td>236.00</td>\n",
       "      <td>236.00</td>\n",
       "      <td>236.00</td>\n",
       "      <td>236.00</td>\n",
       "    </tr>\n",
       "    <tr>\n",
       "      <th>2008</th>\n",
       "      <td>2.00</td>\n",
       "      <td>128.50</td>\n",
       "      <td>38.89</td>\n",
       "      <td>101.00</td>\n",
       "      <td>114.75</td>\n",
       "      <td>128.50</td>\n",
       "      <td>142.25</td>\n",
       "      <td>156.00</td>\n",
       "    </tr>\n",
       "    <tr>\n",
       "      <th>2010</th>\n",
       "      <td>1.00</td>\n",
       "      <td>235.00</td>\n",
       "      <td>NaN</td>\n",
       "      <td>235.00</td>\n",
       "      <td>235.00</td>\n",
       "      <td>235.00</td>\n",
       "      <td>235.00</td>\n",
       "      <td>235.00</td>\n",
       "    </tr>\n",
       "    <tr>\n",
       "      <th>2011</th>\n",
       "      <td>1.00</td>\n",
       "      <td>244.00</td>\n",
       "      <td>NaN</td>\n",
       "      <td>244.00</td>\n",
       "      <td>244.00</td>\n",
       "      <td>244.00</td>\n",
       "      <td>244.00</td>\n",
       "      <td>244.00</td>\n",
       "    </tr>\n",
       "    <tr>\n",
       "      <th>2012</th>\n",
       "      <td>1.00</td>\n",
       "      <td>237.00</td>\n",
       "      <td>NaN</td>\n",
       "      <td>237.00</td>\n",
       "      <td>237.00</td>\n",
       "      <td>237.00</td>\n",
       "      <td>237.00</td>\n",
       "      <td>237.00</td>\n",
       "    </tr>\n",
       "    <tr>\n",
       "      <th>2013</th>\n",
       "      <td>4.00</td>\n",
       "      <td>133.00</td>\n",
       "      <td>54.06</td>\n",
       "      <td>79.00</td>\n",
       "      <td>110.50</td>\n",
       "      <td>122.50</td>\n",
       "      <td>145.00</td>\n",
       "      <td>208.00</td>\n",
       "    </tr>\n",
       "    <tr>\n",
       "      <th>2014</th>\n",
       "      <td>1.00</td>\n",
       "      <td>142.00</td>\n",
       "      <td>NaN</td>\n",
       "      <td>142.00</td>\n",
       "      <td>142.00</td>\n",
       "      <td>142.00</td>\n",
       "      <td>142.00</td>\n",
       "      <td>142.00</td>\n",
       "    </tr>\n",
       "    <tr>\n",
       "      <th>2015</th>\n",
       "      <td>2.00</td>\n",
       "      <td>180.00</td>\n",
       "      <td>43.84</td>\n",
       "      <td>149.00</td>\n",
       "      <td>164.50</td>\n",
       "      <td>180.00</td>\n",
       "      <td>195.50</td>\n",
       "      <td>211.00</td>\n",
       "    </tr>\n",
       "    <tr>\n",
       "      <th>2018</th>\n",
       "      <td>3.00</td>\n",
       "      <td>135.67</td>\n",
       "      <td>73.82</td>\n",
       "      <td>69.00</td>\n",
       "      <td>96.00</td>\n",
       "      <td>123.00</td>\n",
       "      <td>169.00</td>\n",
       "      <td>215.00</td>\n",
       "    </tr>\n",
       "    <tr>\n",
       "      <th>2019</th>\n",
       "      <td>4.00</td>\n",
       "      <td>98.50</td>\n",
       "      <td>44.56</td>\n",
       "      <td>46.00</td>\n",
       "      <td>83.50</td>\n",
       "      <td>96.50</td>\n",
       "      <td>111.50</td>\n",
       "      <td>155.00</td>\n",
       "    </tr>\n",
       "    <tr>\n",
       "      <th>2020</th>\n",
       "      <td>1.00</td>\n",
       "      <td>78.00</td>\n",
       "      <td>NaN</td>\n",
       "      <td>78.00</td>\n",
       "      <td>78.00</td>\n",
       "      <td>78.00</td>\n",
       "      <td>78.00</td>\n",
       "      <td>78.00</td>\n",
       "    </tr>\n",
       "    <tr>\n",
       "      <th>2022</th>\n",
       "      <td>4.00</td>\n",
       "      <td>7.62</td>\n",
       "      <td>4.31</td>\n",
       "      <td>5.00</td>\n",
       "      <td>5.00</td>\n",
       "      <td>5.75</td>\n",
       "      <td>8.38</td>\n",
       "      <td>14.00</td>\n",
       "    </tr>\n",
       "  </tbody>\n",
       "</table>\n",
       "</div>"
      ],
      "text/plain": [
       "      count   mean   std    min    25%    50%    75%    max\n",
       "Year                                                       \n",
       "2006   1.00 110.00   NaN 110.00 110.00 110.00 110.00 110.00\n",
       "2007   1.00 236.00   NaN 236.00 236.00 236.00 236.00 236.00\n",
       "2008   2.00 128.50 38.89 101.00 114.75 128.50 142.25 156.00\n",
       "2010   1.00 235.00   NaN 235.00 235.00 235.00 235.00 235.00\n",
       "2011   1.00 244.00   NaN 244.00 244.00 244.00 244.00 244.00\n",
       "2012   1.00 237.00   NaN 237.00 237.00 237.00 237.00 237.00\n",
       "2013   4.00 133.00 54.06  79.00 110.50 122.50 145.00 208.00\n",
       "2014   1.00 142.00   NaN 142.00 142.00 142.00 142.00 142.00\n",
       "2015   2.00 180.00 43.84 149.00 164.50 180.00 195.50 211.00\n",
       "2018   3.00 135.67 73.82  69.00  96.00 123.00 169.00 215.00\n",
       "2019   4.00  98.50 44.56  46.00  83.50  96.50 111.50 155.00\n",
       "2020   1.00  78.00   NaN  78.00  78.00  78.00  78.00  78.00\n",
       "2022   4.00   7.62  4.31   5.00   5.00   5.75   8.38  14.00"
      ]
     },
     "execution_count": 91,
     "metadata": {},
     "output_type": "execute_result"
    }
   ],
   "source": [
    "dacia_df['Run'] = dacia_df['Run'].str.replace(\"thd.\",\"\")\n",
    "dacia_df['Run'] = pd.to_numeric(dacia_df['Run'], errors='coerce')\n",
    "dacia_df.groupby(['Year']).describe()['Run']"
   ]
  },
  {
   "cell_type": "code",
   "execution_count": 97,
   "metadata": {},
   "outputs": [
    {
     "data": {
      "image/png": "[encoded data removed]",
      "text/plain": [
       "<Figure size 640x480 with 1 Axes>"
      ]
     },
     "metadata": {},
     "output_type": "display_data"
    }
   ],
   "source": [
    "\n",
    "dacia_df_price = dacia_df.sort_values(['Year'], ascending=[True])\n",
    "dacia_df_price = pd.DataFrame(dacia_df_price,columns=['Year','Price'])\n",
    "dacia_df_price.plot(x ='Year', y='Price', kind = 'scatter')\n",
    "plt.ylabel('Price, \\u20ac')\n",
    "plt.show()\n"
   ]
  },
  {
   "cell_type": "code",
   "execution_count": 93,
   "metadata": {},
   "outputs": [
    {
     "data": {
      "image/png": "[encoded data removed]",
      "text/plain": [
       "<Figure size 640x480 with 1 Axes>"
      ]
     },
     "metadata": {},
     "output_type": "display_data"
    }
   ],
   "source": [
    "dacia_df_run = dacia_df.sort_values(['Run'], ascending=[True])\n",
    "dacia_df_run = pd.DataFrame(dacia_df_run,columns=['Run','Price'])\n",
    "dacia_df_run.plot(x ='Price', y='Run', kind = 'scatter')\n",
    "plt.ylabel('Run, thousands of km')\n",
    "plt.xlabel('Price, \\u20ac')\n",
    "plt.show()"
   ]
  },
  {
   "cell_type": "code",
   "execution_count": 94,
   "metadata": {},
   "outputs": [
    {
     "data": {
      "image/png": "[encoded data removed]",
      "text/plain": [
       "<Figure size 640x480 with 1 Axes>"
      ]
     },
     "metadata": {},
     "output_type": "display_data"
    }
   ],
   "source": [
    "dacia_df_volume = dacia_df.sort_values(['Volume'], ascending=[True])\n",
    "df = pd.DataFrame(dacia_df_volume,columns=['Volume','Price'])\n",
    "df.plot(x ='Price', y='Volume', kind = 'scatter')\n",
    "plt.xlabel('Price, \\u20ac')\n",
    "plt.ylabel('Engine Volume, Liters')\n",
    "plt.show()"
   ]
  },
  {
   "cell_type": "code",
   "execution_count": 95,
   "metadata": {},
   "outputs": [
    {
     "data": {
      "text/plain": [
       "Index(['Year', 'Price'], dtype='object')"
      ]
     },
     "execution_count": 95,
     "metadata": {},
     "output_type": "execute_result"
    }
   ],
   "source": [
    "dacia_df_price.columns"
   ]
  },
  {
   "cell_type": "code",
   "execution_count": 108,
   "metadata": {},
   "outputs": [
    {
     "data": {
      "text/html": [
       "<div>\n",
       "<style scoped>\n",
       "    .dataframe tbody tr th:only-of-type {\n",
       "        vertical-align: middle;\n",
       "    }\n",
       "\n",
       "    .dataframe tbody tr th {\n",
       "        vertical-align: top;\n",
       "    }\n",
       "\n",
       "    .dataframe thead th {\n",
       "        text-align: right;\n",
       "    }\n",
       "</style>\n",
       "<table border=\"1\" class=\"dataframe\">\n",
       "  <thead>\n",
       "    <tr style=\"text-align: right;\">\n",
       "      <th>Volume</th>\n",
       "      <th>0.9</th>\n",
       "      <th>1.0</th>\n",
       "      <th>1.2</th>\n",
       "      <th>1.3</th>\n",
       "      <th>1.4</th>\n",
       "      <th>1.4D</th>\n",
       "      <th>1.5D</th>\n",
       "      <th>1.6</th>\n",
       "    </tr>\n",
       "    <tr>\n",
       "      <th>Year</th>\n",
       "      <th></th>\n",
       "      <th></th>\n",
       "      <th></th>\n",
       "      <th></th>\n",
       "      <th></th>\n",
       "      <th></th>\n",
       "      <th></th>\n",
       "      <th></th>\n",
       "    </tr>\n",
       "  </thead>\n",
       "  <tbody>\n",
       "    <tr>\n",
       "      <th>2,006.00</th>\n",
       "      <td>NaN</td>\n",
       "      <td>NaN</td>\n",
       "      <td>NaN</td>\n",
       "      <td>NaN</td>\n",
       "      <td>NaN</td>\n",
       "      <td>NaN</td>\n",
       "      <td>NaN</td>\n",
       "      <td>600.00</td>\n",
       "    </tr>\n",
       "    <tr>\n",
       "      <th>2,007.00</th>\n",
       "      <td>NaN</td>\n",
       "      <td>NaN</td>\n",
       "      <td>NaN</td>\n",
       "      <td>NaN</td>\n",
       "      <td>NaN</td>\n",
       "      <td>NaN</td>\n",
       "      <td>NaN</td>\n",
       "      <td>1,270.00</td>\n",
       "    </tr>\n",
       "    <tr>\n",
       "      <th>2,008.00</th>\n",
       "      <td>NaN</td>\n",
       "      <td>NaN</td>\n",
       "      <td>NaN</td>\n",
       "      <td>NaN</td>\n",
       "      <td>1,500.00</td>\n",
       "      <td>NaN</td>\n",
       "      <td>NaN</td>\n",
       "      <td>4,500.00</td>\n",
       "    </tr>\n",
       "    <tr>\n",
       "      <th>2,010.00</th>\n",
       "      <td>NaN</td>\n",
       "      <td>NaN</td>\n",
       "      <td>NaN</td>\n",
       "      <td>NaN</td>\n",
       "      <td>2,690.00</td>\n",
       "      <td>NaN</td>\n",
       "      <td>4,220.00</td>\n",
       "      <td>NaN</td>\n",
       "    </tr>\n",
       "    <tr>\n",
       "      <th>2,011.00</th>\n",
       "      <td>NaN</td>\n",
       "      <td>NaN</td>\n",
       "      <td>NaN</td>\n",
       "      <td>NaN</td>\n",
       "      <td>NaN</td>\n",
       "      <td>NaN</td>\n",
       "      <td>4,235.00</td>\n",
       "      <td>6,825.00</td>\n",
       "    </tr>\n",
       "    <tr>\n",
       "      <th>2,012.00</th>\n",
       "      <td>NaN</td>\n",
       "      <td>NaN</td>\n",
       "      <td>NaN</td>\n",
       "      <td>NaN</td>\n",
       "      <td>NaN</td>\n",
       "      <td>NaN</td>\n",
       "      <td>5,900.00</td>\n",
       "      <td>NaN</td>\n",
       "    </tr>\n",
       "    <tr>\n",
       "      <th>2,013.00</th>\n",
       "      <td>NaN</td>\n",
       "      <td>NaN</td>\n",
       "      <td>4,950.00</td>\n",
       "      <td>NaN</td>\n",
       "      <td>NaN</td>\n",
       "      <td>3,600.00</td>\n",
       "      <td>6,900.00</td>\n",
       "      <td>7,490.00</td>\n",
       "    </tr>\n",
       "    <tr>\n",
       "      <th>2,014.00</th>\n",
       "      <td>NaN</td>\n",
       "      <td>NaN</td>\n",
       "      <td>4,290.00</td>\n",
       "      <td>NaN</td>\n",
       "      <td>NaN</td>\n",
       "      <td>NaN</td>\n",
       "      <td>NaN</td>\n",
       "      <td>NaN</td>\n",
       "    </tr>\n",
       "    <tr>\n",
       "      <th>2,015.00</th>\n",
       "      <td>NaN</td>\n",
       "      <td>5,450.00</td>\n",
       "      <td>6,499.00</td>\n",
       "      <td>NaN</td>\n",
       "      <td>NaN</td>\n",
       "      <td>NaN</td>\n",
       "      <td>NaN</td>\n",
       "      <td>NaN</td>\n",
       "    </tr>\n",
       "    <tr>\n",
       "      <th>2,018.00</th>\n",
       "      <td>9,499.00</td>\n",
       "      <td>NaN</td>\n",
       "      <td>NaN</td>\n",
       "      <td>NaN</td>\n",
       "      <td>NaN</td>\n",
       "      <td>NaN</td>\n",
       "      <td>14,150.00</td>\n",
       "      <td>NaN</td>\n",
       "    </tr>\n",
       "    <tr>\n",
       "      <th>2,019.00</th>\n",
       "      <td>NaN</td>\n",
       "      <td>NaN</td>\n",
       "      <td>NaN</td>\n",
       "      <td>NaN</td>\n",
       "      <td>NaN</td>\n",
       "      <td>NaN</td>\n",
       "      <td>14,350.00</td>\n",
       "      <td>14,990.00</td>\n",
       "    </tr>\n",
       "    <tr>\n",
       "      <th>2,020.00</th>\n",
       "      <td>NaN</td>\n",
       "      <td>NaN</td>\n",
       "      <td>NaN</td>\n",
       "      <td>NaN</td>\n",
       "      <td>NaN</td>\n",
       "      <td>NaN</td>\n",
       "      <td>17,700.00</td>\n",
       "      <td>NaN</td>\n",
       "    </tr>\n",
       "    <tr>\n",
       "      <th>2,022.00</th>\n",
       "      <td>NaN</td>\n",
       "      <td>17,660.00</td>\n",
       "      <td>NaN</td>\n",
       "      <td>18,700.00</td>\n",
       "      <td>NaN</td>\n",
       "      <td>NaN</td>\n",
       "      <td>NaN</td>\n",
       "      <td>NaN</td>\n",
       "    </tr>\n",
       "  </tbody>\n",
       "</table>\n",
       "</div>"
      ],
      "text/plain": [
       "Volume        0.9       1.0      1.2       1.3      1.4     1.4D      1.5D  \\\n",
       "Year                                                                         \n",
       "2,006.00      NaN       NaN      NaN       NaN      NaN      NaN       NaN   \n",
       "2,007.00      NaN       NaN      NaN       NaN      NaN      NaN       NaN   \n",
       "2,008.00      NaN       NaN      NaN       NaN 1,500.00      NaN       NaN   \n",
       "2,010.00      NaN       NaN      NaN       NaN 2,690.00      NaN  4,220.00   \n",
       "2,011.00      NaN       NaN      NaN       NaN      NaN      NaN  4,235.00   \n",
       "2,012.00      NaN       NaN      NaN       NaN      NaN      NaN  5,900.00   \n",
       "2,013.00      NaN       NaN 4,950.00       NaN      NaN 3,600.00  6,900.00   \n",
       "2,014.00      NaN       NaN 4,290.00       NaN      NaN      NaN       NaN   \n",
       "2,015.00      NaN  5,450.00 6,499.00       NaN      NaN      NaN       NaN   \n",
       "2,018.00 9,499.00       NaN      NaN       NaN      NaN      NaN 14,150.00   \n",
       "2,019.00      NaN       NaN      NaN       NaN      NaN      NaN 14,350.00   \n",
       "2,020.00      NaN       NaN      NaN       NaN      NaN      NaN 17,700.00   \n",
       "2,022.00      NaN 17,660.00      NaN 18,700.00      NaN      NaN       NaN   \n",
       "\n",
       "Volume         1.6  \n",
       "Year                \n",
       "2,006.00    600.00  \n",
       "2,007.00  1,270.00  \n",
       "2,008.00  4,500.00  \n",
       "2,010.00       NaN  \n",
       "2,011.00  6,825.00  \n",
       "2,012.00       NaN  \n",
       "2,013.00  7,490.00  \n",
       "2,014.00       NaN  \n",
       "2,015.00       NaN  \n",
       "2,018.00       NaN  \n",
       "2,019.00 14,990.00  \n",
       "2,020.00       NaN  \n",
       "2,022.00       NaN  "
      ]
     },
     "execution_count": 108,
     "metadata": {},
     "output_type": "execute_result"
    }
   ],
   "source": [
    "dacia_map = dacia_df[['Year', 'Volume', 'Run', 'Price']]\n",
    "dacia_map = dacia_map.astype({'Year':'float'})\n",
    "dacia_map.head()\n",
    "\n",
    "\n",
    "dacia_table = dacia_map.pivot_table(index='Year', columns='Volume', values='Price', aggfunc=np.median)\n",
    "dacia_table\n",
    "#plt.figure()\n",
    "# colormap = sns.color_palette(\"Greens\")\n",
    "# ax = sns.heatmap(data=dacia_map_1, cmap=colormap, annot=True, fmt='.1f')\n",
    "# #ax.set_yticklabels(calendar.month_name[1:],  rotation= 0)\n",
    "# #ax.set_xticklabels(calendar.day_name, rotation= 45)\n",
    "# ax.set_title('2019 TSA Travelers, in millions')"
   ]
  }
 ],
 "metadata": {
  "kernelspec": {
   "display_name": "Python 3.10.7 64-bit",
   "language": "python",
   "name": "python3"
  },
  "language_info": {
   "codemirror_mode": {
    "name": "ipython",
    "version": 3
   },
   "file_extension": ".py",
   "mimetype": "text/x-python",
   "name": "python",
   "nbconvert_exporter": "python",
   "pygments_lexer": "ipython3",
   "version": "3.10.7"
  },
  "orig_nbformat": 4,
  "vscode": {
   "interpreter": {
    "hash": "b59f46532546b29865c374eeeca43d00bba841fcb2de78eee9c1ff7ff45bdea2"
   }
  }
 },
 "nbformat": 4,
 "nbformat_minor": 2
}
