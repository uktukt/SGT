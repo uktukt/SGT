{
 "cells": [
  {
   "cell_type": "code",
   "execution_count": 90,
   "metadata": {},
   "outputs": [],
   "source": [
    "# TODO scrape any car data from ss.com\n",
    "# clean up prices as numerics\n",
    "# group by make and model\n",
    "# plot the data - pricing for sure"
   ]
  },
  {
   "cell_type": "code",
   "execution_count": 91,
   "metadata": {},
   "outputs": [],
   "source": [
    "import pandas as pd\n",
    "from bs4 import BeautifulSoup\n",
    "import requests\n",
    "import matplotlib.pyplot as plt\n",
    "import numpy as np\n",
    "import seaborn as sns"
   ]
  },
  {
   "cell_type": "code",
   "execution_count": 92,
   "metadata": {},
   "outputs": [],
   "source": [
    "url = \"https://www.ss.com/en/transport/cars/bmw/sell/\""
   ]
  },
  {
   "cell_type": "code",
   "execution_count": 93,
   "metadata": {},
   "outputs": [
    {
     "data": {
      "text/plain": [
       "200"
      ]
     },
     "execution_count": 93,
     "metadata": {},
     "output_type": "execute_result"
    }
   ],
   "source": [
    "req = requests.get(url)\n",
    "req.status_code"
   ]
  },
  {
   "cell_type": "code",
   "execution_count": 94,
   "metadata": {},
   "outputs": [
    {
     "data": {
      "text/plain": [
       "<title>SS.COM Cars - BMW, Prices, Sell - Advertisements</title>"
      ]
     },
     "execution_count": 94,
     "metadata": {},
     "output_type": "execute_result"
    }
   ],
   "source": [
    "soup = BeautifulSoup(req.text, 'lxml')\n",
    "soup.title"
   ]
  },
  {
   "cell_type": "code",
   "execution_count": 95,
   "metadata": {},
   "outputs": [
    {
     "data": {
      "text/plain": [
       "'\\n\\xa0Advertisements\\r\\n\\n\\n\\ndate\\n'"
      ]
     },
     "execution_count": 95,
     "metadata": {},
     "output_type": "execute_result"
    }
   ],
   "source": [
    "tables = soup.find_all(\"table\")\n",
    "headline = soup.find(\"tr\", {\"id\":\"head_line\"})\n",
    "headtds = headline.find_all(\"td\")\n",
    "headline.text\n",
    "headtds[0].text"
   ]
  },
  {
   "cell_type": "code",
   "execution_count": 96,
   "metadata": {},
   "outputs": [
    {
     "data": {
      "text/plain": [
       "['Model', 'Year', 'Volume', 'Run', 'Price']"
      ]
     },
     "execution_count": 96,
     "metadata": {},
     "output_type": "execute_result"
    }
   ],
   "source": [
    "headcolumns = [el.text for el in headtds[1:]]\n",
    "headcolumns"
   ]
  },
  {
   "cell_type": "code",
   "execution_count": 97,
   "metadata": {},
   "outputs": [],
   "source": [
    "def getColList(soup):\n",
    "    column_list = [\"description\",\"url\"] # we decided to that we need these two column names no matter the html\n",
    "    headline = soup.find(\"tr\", {\"id\":\"head_line\"})\n",
    "    headtds = headline.find_all(\"td\")\n",
    "    headcolumns = [el.text for el in headtds[1:]] # this will get all column names starting with 2nd in HTML\n",
    "    column_list += headcolumns\n",
    "    return column_list"
   ]
  },
  {
   "cell_type": "code",
   "execution_count": 98,
   "metadata": {},
   "outputs": [
    {
     "data": {
      "text/plain": [
       "['description', 'url', 'Model', 'Year', 'Volume', 'Run', 'Price']"
      ]
     },
     "execution_count": 98,
     "metadata": {},
     "output_type": "execute_result"
    }
   ],
   "source": [
    "column_names = getColList(soup)\n",
    "column_names"
   ]
  },
  {
   "cell_type": "code",
   "execution_count": 99,
   "metadata": {},
   "outputs": [],
   "source": [
    "trows = soup.find_all('tr')"
   ]
  },
  {
   "cell_type": "code",
   "execution_count": 100,
   "metadata": {},
   "outputs": [],
   "source": [
    "rows = [row for row in trows if row.get('id',\"\").startswith(\"tr_\") and not row.get('id',\"\").startswith(\"tr_bnr\") ]"
   ]
  },
  {
   "cell_type": "code",
   "execution_count": 101,
   "metadata": {},
   "outputs": [],
   "source": [
    "def getRowList(soup):\n",
    "    trows = soup.find_all('tr')\n",
    "    aprows = [row for row in trows if row.get('id',\"\").startswith(\"tr_\") and not row.get('id',\"\").startswith(\"tr_bnr\") ]\n",
    "    return aprows"
   ]
  },
  {
   "cell_type": "code",
   "execution_count": 102,
   "metadata": {},
   "outputs": [],
   "source": [
    "rows = getRowList(soup)"
   ]
  },
  {
   "cell_type": "code",
   "execution_count": 103,
   "metadata": {},
   "outputs": [],
   "source": [
    "first_ad = rows[0]"
   ]
  },
  {
   "cell_type": "code",
   "execution_count": 104,
   "metadata": {},
   "outputs": [],
   "source": [
    "row_tds = first_ad.find_all('td')"
   ]
  },
  {
   "cell_type": "code",
   "execution_count": 105,
   "metadata": {},
   "outputs": [],
   "source": [
    "def getRow(row,colist=column_names):\n",
    "    row_tds = row.find_all('td')\n",
    "    rowDict = {}\n",
    "    if len(row_tds) < 3: # a little sanity check\n",
    "        print(\"Hmm bad row\")\n",
    "        return rowDict\n",
    "    \n",
    "    rowDict[colist[0]] = row_tds[2].text # so the big assumption is that we always get description in 3rd column\n",
    "    rowDict[colist[1]] = \"https://ss.com\" + row_tds[1].find('a').get('href')\n",
    "    for td,key in zip(row_tds[3:],colist[2:]): \n",
    "        rowDict[key] = td.text\n",
    "    return rowDict"
   ]
  },
  {
   "cell_type": "code",
   "execution_count": 106,
   "metadata": {},
   "outputs": [
    {
     "data": {
      "text/plain": [
       "{'description': 'BMW 320 2.0l automātiskā ātrumkārba. \\r\\nPraktiski perfektā tehniskā un vizuāl',\n",
       " 'url': 'https://ss.com/msg/en/transport/cars/bmw/320/blefhc.html',\n",
       " 'Model': '320',\n",
       " 'Year': '2010',\n",
       " 'Volume': '2.0D',\n",
       " 'Run': '284 thd.',\n",
       " 'Price': '7,800  €'}"
      ]
     },
     "execution_count": 106,
     "metadata": {},
     "output_type": "execute_result"
    }
   ],
   "source": [
    "getRow(rows[6])"
   ]
  },
  {
   "cell_type": "code",
   "execution_count": 107,
   "metadata": {},
   "outputs": [],
   "source": [
    "def getRows(rowlist,colist=column_names):\n",
    "    return [getRow(row, colist=colist) for row in rowlist]"
   ]
  },
  {
   "cell_type": "code",
   "execution_count": 108,
   "metadata": {},
   "outputs": [],
   "source": [
    "def getDFfromURL(url):\n",
    "    \n",
    "    req = requests.get(url)\n",
    "    if req.status_code != 200:\n",
    "        print(\"Request Fail with\", req.status_code)\n",
    "        return None \n",
    "    soup = BeautifulSoup(req.text, 'lxml')\n",
    "    column_names = getColList(soup)\n",
    "    rowlist = getRowList(soup)\n",
    "    rows = getRows(rowlist,colist=column_names)\n",
    "    return pd.DataFrame(rows, columns=column_names)"
   ]
  },
  {
   "cell_type": "code",
   "execution_count": 109,
   "metadata": {},
   "outputs": [
    {
     "data": {
      "text/html": [
       "<div>\n",
       "<style scoped>\n",
       "    .dataframe tbody tr th:only-of-type {\n",
       "        vertical-align: middle;\n",
       "    }\n",
       "\n",
       "    .dataframe tbody tr th {\n",
       "        vertical-align: top;\n",
       "    }\n",
       "\n",
       "    .dataframe thead th {\n",
       "        text-align: right;\n",
       "    }\n",
       "</style>\n",
       "<table border=\"1\" class=\"dataframe\">\n",
       "  <thead>\n",
       "    <tr style=\"text-align: right;\">\n",
       "      <th></th>\n",
       "      <th>description</th>\n",
       "      <th>url</th>\n",
       "      <th>Model</th>\n",
       "      <th>Year</th>\n",
       "      <th>Volume</th>\n",
       "      <th>Run</th>\n",
       "      <th>Price</th>\n",
       "    </tr>\n",
       "  </thead>\n",
       "  <tbody>\n",
       "    <tr>\n",
       "      <th>0</th>\n",
       "      <td>X-Drive 2.0D 110Kw Model Advantage, Harmann ka...</td>\n",
       "      <td>https://ss.com/msg/en/transport/cars/bmw/x1/bf...</td>\n",
       "      <td>X1</td>\n",
       "      <td>2017</td>\n",
       "      <td>2.0D</td>\n",
       "      <td>187 thd.</td>\n",
       "      <td>19,950  €</td>\n",
       "    </tr>\n",
       "    <tr>\n",
       "      <th>1</th>\n",
       "      <td>Auto īpašnieks pārdod savu BMW X5 3.0d 160kw S...</td>\n",
       "      <td>https://ss.com/msg/en/transport/cars/bmw/x5/bk...</td>\n",
       "      <td>X5</td>\n",
       "      <td>2005</td>\n",
       "      <td>3.0D</td>\n",
       "      <td>235 thd.</td>\n",
       "      <td>5,250  €</td>\n",
       "    </tr>\n",
       "    <tr>\n",
       "      <th>2</th>\n",
       "      <td>Active Tourer 216 модель 2017 года / Автомобил...</td>\n",
       "      <td>https://ss.com/msg/en/transport/cars/bmw/216/b...</td>\n",
       "      <td>216</td>\n",
       "      <td>2017</td>\n",
       "      <td>1.5D</td>\n",
       "      <td>160 thd.</td>\n",
       "      <td>10,250  €</td>\n",
       "    </tr>\n",
       "    <tr>\n",
       "      <th>3</th>\n",
       "      <td>Pārdodu BMW E46 Special Edition. Facelift. 200...</td>\n",
       "      <td>https://ss.com/msg/en/transport/cars/bmw/320/b...</td>\n",
       "      <td>320</td>\n",
       "      <td>2004</td>\n",
       "      <td>2.0D</td>\n",
       "      <td>220 thd.</td>\n",
       "      <td>3,400  €</td>\n",
       "    </tr>\n",
       "    <tr>\n",
       "      <th>4</th>\n",
       "      <td>Pārdod BMW 320d\\r\\nAuto ir ļoti labā stāvoklī\\...</td>\n",
       "      <td>https://ss.com/msg/en/transport/cars/bmw/320/b...</td>\n",
       "      <td>320</td>\n",
       "      <td>2006</td>\n",
       "      <td>2.0D</td>\n",
       "      <td>328 thd.</td>\n",
       "      <td>4,500  €</td>\n",
       "    </tr>\n",
       "  </tbody>\n",
       "</table>\n",
       "</div>"
      ],
      "text/plain": [
       "                                         description  \\\n",
       "0  X-Drive 2.0D 110Kw Model Advantage, Harmann ka...   \n",
       "1  Auto īpašnieks pārdod savu BMW X5 3.0d 160kw S...   \n",
       "2  Active Tourer 216 модель 2017 года / Автомобил...   \n",
       "3  Pārdodu BMW E46 Special Edition. Facelift. 200...   \n",
       "4  Pārdod BMW 320d\\r\\nAuto ir ļoti labā stāvoklī\\...   \n",
       "\n",
       "                                                 url Model  Year Volume  \\\n",
       "0  https://ss.com/msg/en/transport/cars/bmw/x1/bf...    X1  2017   2.0D   \n",
       "1  https://ss.com/msg/en/transport/cars/bmw/x5/bk...    X5  2005   3.0D   \n",
       "2  https://ss.com/msg/en/transport/cars/bmw/216/b...   216  2017   1.5D   \n",
       "3  https://ss.com/msg/en/transport/cars/bmw/320/b...   320  2004   2.0D   \n",
       "4  https://ss.com/msg/en/transport/cars/bmw/320/b...   320  2006   2.0D   \n",
       "\n",
       "        Run      Price  \n",
       "0  187 thd.  19,950  €  \n",
       "1  235 thd.   5,250  €  \n",
       "2  160 thd.  10,250  €  \n",
       "3  220 thd.   3,400  €  \n",
       "4  328 thd.   4,500  €  "
      ]
     },
     "execution_count": 109,
     "metadata": {},
     "output_type": "execute_result"
    }
   ],
   "source": [
    "cars_bmw = url\n",
    "idf = getDFfromURL(cars_bmw)\n",
    "idf.head()"
   ]
  },
  {
   "cell_type": "code",
   "execution_count": 110,
   "metadata": {},
   "outputs": [],
   "source": [
    "idf.to_csv(\"cars_bmw_20221023.csv\")"
   ]
  },
  {
   "cell_type": "code",
   "execution_count": 120,
   "metadata": {},
   "outputs": [],
   "source": [
    "bmw_df = pd.read_csv(r\"C:\\Users\\dovil\\Desktop\\she goes tech\\SGT\\cars_bmw_20221023.csv\")\n"
   ]
  },
  {
   "cell_type": "code",
   "execution_count": 121,
   "metadata": {},
   "outputs": [
    {
     "data": {
      "text/plain": [
       "count       60.00\n",
       "mean     7,710.60\n",
       "std      7,593.73\n",
       "min      1,490.00\n",
       "25%      3,490.00\n",
       "50%      4,875.00\n",
       "75%      9,637.50\n",
       "max     50,000.00\n",
       "Name: Price, dtype: float64"
      ]
     },
     "execution_count": 121,
     "metadata": {},
     "output_type": "execute_result"
    }
   ],
   "source": [
    "bmw_df['Price'] = bmw_df['Price'].str.replace(\"€\",\"\")\n",
    "bmw_df['Price'] = bmw_df['Price'].str.replace(\",\",\"\")\n",
    "bmw_df.Price.head()\n",
    "bmw_df['Price'] = pd.to_numeric(bmw_df['Price'], errors='coerce')\n",
    "\n",
    "pd.options.display.float_format = '{:,.2f}'.format\n",
    "bmw_df['Price'].describe()"
   ]
  },
  {
   "cell_type": "code",
   "execution_count": 122,
   "metadata": {},
   "outputs": [
    {
     "data": {
      "text/html": [
       "<div>\n",
       "<style scoped>\n",
       "    .dataframe tbody tr th:only-of-type {\n",
       "        vertical-align: middle;\n",
       "    }\n",
       "\n",
       "    .dataframe tbody tr th {\n",
       "        vertical-align: top;\n",
       "    }\n",
       "\n",
       "    .dataframe thead th {\n",
       "        text-align: right;\n",
       "    }\n",
       "</style>\n",
       "<table border=\"1\" class=\"dataframe\">\n",
       "  <thead>\n",
       "    <tr style=\"text-align: right;\">\n",
       "      <th></th>\n",
       "      <th>count</th>\n",
       "      <th>mean</th>\n",
       "      <th>std</th>\n",
       "      <th>min</th>\n",
       "      <th>25%</th>\n",
       "      <th>50%</th>\n",
       "      <th>75%</th>\n",
       "      <th>max</th>\n",
       "    </tr>\n",
       "    <tr>\n",
       "      <th>Year</th>\n",
       "      <th></th>\n",
       "      <th></th>\n",
       "      <th></th>\n",
       "      <th></th>\n",
       "      <th></th>\n",
       "      <th></th>\n",
       "      <th></th>\n",
       "      <th></th>\n",
       "    </tr>\n",
       "  </thead>\n",
       "  <tbody>\n",
       "    <tr>\n",
       "      <th>1984</th>\n",
       "      <td>1.00</td>\n",
       "      <td>3,650.00</td>\n",
       "      <td>NaN</td>\n",
       "      <td>3,650.00</td>\n",
       "      <td>3,650.00</td>\n",
       "      <td>3,650.00</td>\n",
       "      <td>3,650.00</td>\n",
       "      <td>3,650.00</td>\n",
       "    </tr>\n",
       "    <tr>\n",
       "      <th>1990</th>\n",
       "      <td>1.00</td>\n",
       "      <td>2,500.00</td>\n",
       "      <td>NaN</td>\n",
       "      <td>2,500.00</td>\n",
       "      <td>2,500.00</td>\n",
       "      <td>2,500.00</td>\n",
       "      <td>2,500.00</td>\n",
       "      <td>2,500.00</td>\n",
       "    </tr>\n",
       "    <tr>\n",
       "      <th>1993</th>\n",
       "      <td>1.00</td>\n",
       "      <td>4,100.00</td>\n",
       "      <td>NaN</td>\n",
       "      <td>4,100.00</td>\n",
       "      <td>4,100.00</td>\n",
       "      <td>4,100.00</td>\n",
       "      <td>4,100.00</td>\n",
       "      <td>4,100.00</td>\n",
       "    </tr>\n",
       "    <tr>\n",
       "      <th>1995</th>\n",
       "      <td>1.00</td>\n",
       "      <td>3,600.00</td>\n",
       "      <td>NaN</td>\n",
       "      <td>3,600.00</td>\n",
       "      <td>3,600.00</td>\n",
       "      <td>3,600.00</td>\n",
       "      <td>3,600.00</td>\n",
       "      <td>3,600.00</td>\n",
       "    </tr>\n",
       "    <tr>\n",
       "      <th>1999</th>\n",
       "      <td>1.00</td>\n",
       "      <td>1,490.00</td>\n",
       "      <td>NaN</td>\n",
       "      <td>1,490.00</td>\n",
       "      <td>1,490.00</td>\n",
       "      <td>1,490.00</td>\n",
       "      <td>1,490.00</td>\n",
       "      <td>1,490.00</td>\n",
       "    </tr>\n",
       "    <tr>\n",
       "      <th>2000</th>\n",
       "      <td>1.00</td>\n",
       "      <td>3,990.00</td>\n",
       "      <td>NaN</td>\n",
       "      <td>3,990.00</td>\n",
       "      <td>3,990.00</td>\n",
       "      <td>3,990.00</td>\n",
       "      <td>3,990.00</td>\n",
       "      <td>3,990.00</td>\n",
       "    </tr>\n",
       "    <tr>\n",
       "      <th>2002</th>\n",
       "      <td>6.00</td>\n",
       "      <td>2,986.50</td>\n",
       "      <td>634.87</td>\n",
       "      <td>2,250.00</td>\n",
       "      <td>2,542.50</td>\n",
       "      <td>2,949.50</td>\n",
       "      <td>3,267.25</td>\n",
       "      <td>3,990.00</td>\n",
       "    </tr>\n",
       "    <tr>\n",
       "      <th>2003</th>\n",
       "      <td>3.00</td>\n",
       "      <td>3,310.00</td>\n",
       "      <td>311.77</td>\n",
       "      <td>2,950.00</td>\n",
       "      <td>3,220.00</td>\n",
       "      <td>3,490.00</td>\n",
       "      <td>3,490.00</td>\n",
       "      <td>3,490.00</td>\n",
       "    </tr>\n",
       "    <tr>\n",
       "      <th>2004</th>\n",
       "      <td>7.00</td>\n",
       "      <td>3,997.00</td>\n",
       "      <td>2,547.68</td>\n",
       "      <td>1,999.00</td>\n",
       "      <td>2,550.00</td>\n",
       "      <td>3,400.00</td>\n",
       "      <td>3,990.00</td>\n",
       "      <td>9,500.00</td>\n",
       "    </tr>\n",
       "    <tr>\n",
       "      <th>2005</th>\n",
       "      <td>4.00</td>\n",
       "      <td>4,320.00</td>\n",
       "      <td>1,455.98</td>\n",
       "      <td>2,290.00</td>\n",
       "      <td>3,760.00</td>\n",
       "      <td>4,750.00</td>\n",
       "      <td>5,310.00</td>\n",
       "      <td>5,490.00</td>\n",
       "    </tr>\n",
       "    <tr>\n",
       "      <th>2006</th>\n",
       "      <td>6.00</td>\n",
       "      <td>4,853.33</td>\n",
       "      <td>1,225.87</td>\n",
       "      <td>3,850.00</td>\n",
       "      <td>4,490.00</td>\n",
       "      <td>4,490.00</td>\n",
       "      <td>4,497.50</td>\n",
       "      <td>7,300.00</td>\n",
       "    </tr>\n",
       "    <tr>\n",
       "      <th>2007</th>\n",
       "      <td>4.00</td>\n",
       "      <td>7,197.50</td>\n",
       "      <td>3,225.63</td>\n",
       "      <td>3,490.00</td>\n",
       "      <td>5,072.50</td>\n",
       "      <td>7,400.00</td>\n",
       "      <td>9,525.00</td>\n",
       "      <td>10,500.00</td>\n",
       "    </tr>\n",
       "    <tr>\n",
       "      <th>2008</th>\n",
       "      <td>5.00</td>\n",
       "      <td>7,766.00</td>\n",
       "      <td>3,908.93</td>\n",
       "      <td>3,990.00</td>\n",
       "      <td>5,350.00</td>\n",
       "      <td>5,990.00</td>\n",
       "      <td>10,000.00</td>\n",
       "      <td>13,500.00</td>\n",
       "    </tr>\n",
       "    <tr>\n",
       "      <th>2009</th>\n",
       "      <td>3.00</td>\n",
       "      <td>9,280.00</td>\n",
       "      <td>4,088.24</td>\n",
       "      <td>6,650.00</td>\n",
       "      <td>6,925.00</td>\n",
       "      <td>7,200.00</td>\n",
       "      <td>10,595.00</td>\n",
       "      <td>13,990.00</td>\n",
       "    </tr>\n",
       "    <tr>\n",
       "      <th>2010</th>\n",
       "      <td>4.00</td>\n",
       "      <td>9,112.50</td>\n",
       "      <td>3,031.05</td>\n",
       "      <td>5,900.00</td>\n",
       "      <td>7,325.00</td>\n",
       "      <td>8,775.00</td>\n",
       "      <td>10,562.50</td>\n",
       "      <td>13,000.00</td>\n",
       "    </tr>\n",
       "    <tr>\n",
       "      <th>2012</th>\n",
       "      <td>3.00</td>\n",
       "      <td>10,630.00</td>\n",
       "      <td>2,332.32</td>\n",
       "      <td>8,990.00</td>\n",
       "      <td>9,295.00</td>\n",
       "      <td>9,600.00</td>\n",
       "      <td>11,450.00</td>\n",
       "      <td>13,300.00</td>\n",
       "    </tr>\n",
       "    <tr>\n",
       "      <th>2013</th>\n",
       "      <td>2.00</td>\n",
       "      <td>11,097.50</td>\n",
       "      <td>2,973.38</td>\n",
       "      <td>8,995.00</td>\n",
       "      <td>10,046.25</td>\n",
       "      <td>11,097.50</td>\n",
       "      <td>12,148.75</td>\n",
       "      <td>13,200.00</td>\n",
       "    </tr>\n",
       "    <tr>\n",
       "      <th>2014</th>\n",
       "      <td>3.00</td>\n",
       "      <td>19,761.00</td>\n",
       "      <td>8,865.23</td>\n",
       "      <td>14,303.00</td>\n",
       "      <td>14,646.50</td>\n",
       "      <td>14,990.00</td>\n",
       "      <td>22,490.00</td>\n",
       "      <td>29,990.00</td>\n",
       "    </tr>\n",
       "    <tr>\n",
       "      <th>2015</th>\n",
       "      <td>1.00</td>\n",
       "      <td>15,600.00</td>\n",
       "      <td>NaN</td>\n",
       "      <td>15,600.00</td>\n",
       "      <td>15,600.00</td>\n",
       "      <td>15,600.00</td>\n",
       "      <td>15,600.00</td>\n",
       "      <td>15,600.00</td>\n",
       "    </tr>\n",
       "    <tr>\n",
       "      <th>2017</th>\n",
       "      <td>2.00</td>\n",
       "      <td>15,100.00</td>\n",
       "      <td>6,858.94</td>\n",
       "      <td>10,250.00</td>\n",
       "      <td>12,675.00</td>\n",
       "      <td>15,100.00</td>\n",
       "      <td>17,525.00</td>\n",
       "      <td>19,950.00</td>\n",
       "    </tr>\n",
       "    <tr>\n",
       "      <th>2018</th>\n",
       "      <td>1.00</td>\n",
       "      <td>50,000.00</td>\n",
       "      <td>NaN</td>\n",
       "      <td>50,000.00</td>\n",
       "      <td>50,000.00</td>\n",
       "      <td>50,000.00</td>\n",
       "      <td>50,000.00</td>\n",
       "      <td>50,000.00</td>\n",
       "    </tr>\n",
       "  </tbody>\n",
       "</table>\n",
       "</div>"
      ],
      "text/plain": [
       "      count      mean      std       min       25%       50%       75%  \\\n",
       "Year                                                                     \n",
       "1984   1.00  3,650.00      NaN  3,650.00  3,650.00  3,650.00  3,650.00   \n",
       "1990   1.00  2,500.00      NaN  2,500.00  2,500.00  2,500.00  2,500.00   \n",
       "1993   1.00  4,100.00      NaN  4,100.00  4,100.00  4,100.00  4,100.00   \n",
       "1995   1.00  3,600.00      NaN  3,600.00  3,600.00  3,600.00  3,600.00   \n",
       "1999   1.00  1,490.00      NaN  1,490.00  1,490.00  1,490.00  1,490.00   \n",
       "2000   1.00  3,990.00      NaN  3,990.00  3,990.00  3,990.00  3,990.00   \n",
       "2002   6.00  2,986.50   634.87  2,250.00  2,542.50  2,949.50  3,267.25   \n",
       "2003   3.00  3,310.00   311.77  2,950.00  3,220.00  3,490.00  3,490.00   \n",
       "2004   7.00  3,997.00 2,547.68  1,999.00  2,550.00  3,400.00  3,990.00   \n",
       "2005   4.00  4,320.00 1,455.98  2,290.00  3,760.00  4,750.00  5,310.00   \n",
       "2006   6.00  4,853.33 1,225.87  3,850.00  4,490.00  4,490.00  4,497.50   \n",
       "2007   4.00  7,197.50 3,225.63  3,490.00  5,072.50  7,400.00  9,525.00   \n",
       "2008   5.00  7,766.00 3,908.93  3,990.00  5,350.00  5,990.00 10,000.00   \n",
       "2009   3.00  9,280.00 4,088.24  6,650.00  6,925.00  7,200.00 10,595.00   \n",
       "2010   4.00  9,112.50 3,031.05  5,900.00  7,325.00  8,775.00 10,562.50   \n",
       "2012   3.00 10,630.00 2,332.32  8,990.00  9,295.00  9,600.00 11,450.00   \n",
       "2013   2.00 11,097.50 2,973.38  8,995.00 10,046.25 11,097.50 12,148.75   \n",
       "2014   3.00 19,761.00 8,865.23 14,303.00 14,646.50 14,990.00 22,490.00   \n",
       "2015   1.00 15,600.00      NaN 15,600.00 15,600.00 15,600.00 15,600.00   \n",
       "2017   2.00 15,100.00 6,858.94 10,250.00 12,675.00 15,100.00 17,525.00   \n",
       "2018   1.00 50,000.00      NaN 50,000.00 50,000.00 50,000.00 50,000.00   \n",
       "\n",
       "           max  \n",
       "Year            \n",
       "1984  3,650.00  \n",
       "1990  2,500.00  \n",
       "1993  4,100.00  \n",
       "1995  3,600.00  \n",
       "1999  1,490.00  \n",
       "2000  3,990.00  \n",
       "2002  3,990.00  \n",
       "2003  3,490.00  \n",
       "2004  9,500.00  \n",
       "2005  5,490.00  \n",
       "2006  7,300.00  \n",
       "2007 10,500.00  \n",
       "2008 13,500.00  \n",
       "2009 13,990.00  \n",
       "2010 13,000.00  \n",
       "2012 13,300.00  \n",
       "2013 13,200.00  \n",
       "2014 29,990.00  \n",
       "2015 15,600.00  \n",
       "2017 19,950.00  \n",
       "2018 50,000.00  "
      ]
     },
     "execution_count": 122,
     "metadata": {},
     "output_type": "execute_result"
    }
   ],
   "source": [
    "bmw_df.groupby(['Year']).describe()['Price']"
   ]
  },
  {
   "cell_type": "code",
   "execution_count": 123,
   "metadata": {},
   "outputs": [
    {
     "name": "stderr",
     "output_type": "stream",
     "text": [
      "C:\\Users\\dovil\\AppData\\Local\\Temp\\ipykernel_13584\\1456715884.py:1: FutureWarning: The default value of regex will change from True to False in a future version.\n",
      "  bmw_df['Run'] = bmw_df['Run'].str.replace(\"thd.\",\"\")\n"
     ]
    },
    {
     "data": {
      "text/html": [
       "<div>\n",
       "<style scoped>\n",
       "    .dataframe tbody tr th:only-of-type {\n",
       "        vertical-align: middle;\n",
       "    }\n",
       "\n",
       "    .dataframe tbody tr th {\n",
       "        vertical-align: top;\n",
       "    }\n",
       "\n",
       "    .dataframe thead th {\n",
       "        text-align: right;\n",
       "    }\n",
       "</style>\n",
       "<table border=\"1\" class=\"dataframe\">\n",
       "  <thead>\n",
       "    <tr style=\"text-align: right;\">\n",
       "      <th></th>\n",
       "      <th>count</th>\n",
       "      <th>mean</th>\n",
       "      <th>std</th>\n",
       "      <th>min</th>\n",
       "      <th>25%</th>\n",
       "      <th>50%</th>\n",
       "      <th>75%</th>\n",
       "      <th>max</th>\n",
       "    </tr>\n",
       "    <tr>\n",
       "      <th>Year</th>\n",
       "      <th></th>\n",
       "      <th></th>\n",
       "      <th></th>\n",
       "      <th></th>\n",
       "      <th></th>\n",
       "      <th></th>\n",
       "      <th></th>\n",
       "      <th></th>\n",
       "    </tr>\n",
       "  </thead>\n",
       "  <tbody>\n",
       "    <tr>\n",
       "      <th>1984</th>\n",
       "      <td>1.00</td>\n",
       "      <td>200.00</td>\n",
       "      <td>NaN</td>\n",
       "      <td>200.00</td>\n",
       "      <td>200.00</td>\n",
       "      <td>200.00</td>\n",
       "      <td>200.00</td>\n",
       "      <td>200.00</td>\n",
       "    </tr>\n",
       "    <tr>\n",
       "      <th>1990</th>\n",
       "      <td>1.00</td>\n",
       "      <td>286.00</td>\n",
       "      <td>NaN</td>\n",
       "      <td>286.00</td>\n",
       "      <td>286.00</td>\n",
       "      <td>286.00</td>\n",
       "      <td>286.00</td>\n",
       "      <td>286.00</td>\n",
       "    </tr>\n",
       "    <tr>\n",
       "      <th>1993</th>\n",
       "      <td>1.00</td>\n",
       "      <td>318.00</td>\n",
       "      <td>NaN</td>\n",
       "      <td>318.00</td>\n",
       "      <td>318.00</td>\n",
       "      <td>318.00</td>\n",
       "      <td>318.00</td>\n",
       "      <td>318.00</td>\n",
       "    </tr>\n",
       "    <tr>\n",
       "      <th>1995</th>\n",
       "      <td>1.00</td>\n",
       "      <td>321.00</td>\n",
       "      <td>NaN</td>\n",
       "      <td>321.00</td>\n",
       "      <td>321.00</td>\n",
       "      <td>321.00</td>\n",
       "      <td>321.00</td>\n",
       "      <td>321.00</td>\n",
       "    </tr>\n",
       "    <tr>\n",
       "      <th>1999</th>\n",
       "      <td>1.00</td>\n",
       "      <td>321.00</td>\n",
       "      <td>NaN</td>\n",
       "      <td>321.00</td>\n",
       "      <td>321.00</td>\n",
       "      <td>321.00</td>\n",
       "      <td>321.00</td>\n",
       "      <td>321.00</td>\n",
       "    </tr>\n",
       "    <tr>\n",
       "      <th>2000</th>\n",
       "      <td>1.00</td>\n",
       "      <td>206.00</td>\n",
       "      <td>NaN</td>\n",
       "      <td>206.00</td>\n",
       "      <td>206.00</td>\n",
       "      <td>206.00</td>\n",
       "      <td>206.00</td>\n",
       "      <td>206.00</td>\n",
       "    </tr>\n",
       "    <tr>\n",
       "      <th>2002</th>\n",
       "      <td>4.00</td>\n",
       "      <td>322.25</td>\n",
       "      <td>154.91</td>\n",
       "      <td>151.00</td>\n",
       "      <td>236.50</td>\n",
       "      <td>310.00</td>\n",
       "      <td>395.75</td>\n",
       "      <td>518.00</td>\n",
       "    </tr>\n",
       "    <tr>\n",
       "      <th>2003</th>\n",
       "      <td>2.00</td>\n",
       "      <td>305.00</td>\n",
       "      <td>106.07</td>\n",
       "      <td>230.00</td>\n",
       "      <td>267.50</td>\n",
       "      <td>305.00</td>\n",
       "      <td>342.50</td>\n",
       "      <td>380.00</td>\n",
       "    </tr>\n",
       "    <tr>\n",
       "      <th>2004</th>\n",
       "      <td>6.00</td>\n",
       "      <td>296.33</td>\n",
       "      <td>100.94</td>\n",
       "      <td>131.00</td>\n",
       "      <td>244.75</td>\n",
       "      <td>334.50</td>\n",
       "      <td>357.50</td>\n",
       "      <td>398.00</td>\n",
       "    </tr>\n",
       "    <tr>\n",
       "      <th>2005</th>\n",
       "      <td>4.00</td>\n",
       "      <td>318.50</td>\n",
       "      <td>72.99</td>\n",
       "      <td>235.00</td>\n",
       "      <td>291.25</td>\n",
       "      <td>313.00</td>\n",
       "      <td>340.25</td>\n",
       "      <td>413.00</td>\n",
       "    </tr>\n",
       "    <tr>\n",
       "      <th>2006</th>\n",
       "      <td>5.00</td>\n",
       "      <td>303.60</td>\n",
       "      <td>42.93</td>\n",
       "      <td>242.00</td>\n",
       "      <td>280.00</td>\n",
       "      <td>317.00</td>\n",
       "      <td>328.00</td>\n",
       "      <td>351.00</td>\n",
       "    </tr>\n",
       "    <tr>\n",
       "      <th>2007</th>\n",
       "      <td>2.00</td>\n",
       "      <td>208.50</td>\n",
       "      <td>43.13</td>\n",
       "      <td>178.00</td>\n",
       "      <td>193.25</td>\n",
       "      <td>208.50</td>\n",
       "      <td>223.75</td>\n",
       "      <td>239.00</td>\n",
       "    </tr>\n",
       "    <tr>\n",
       "      <th>2008</th>\n",
       "      <td>4.00</td>\n",
       "      <td>283.50</td>\n",
       "      <td>51.62</td>\n",
       "      <td>226.00</td>\n",
       "      <td>256.00</td>\n",
       "      <td>279.50</td>\n",
       "      <td>307.00</td>\n",
       "      <td>349.00</td>\n",
       "    </tr>\n",
       "    <tr>\n",
       "      <th>2009</th>\n",
       "      <td>3.00</td>\n",
       "      <td>263.00</td>\n",
       "      <td>17.58</td>\n",
       "      <td>250.00</td>\n",
       "      <td>253.00</td>\n",
       "      <td>256.00</td>\n",
       "      <td>269.50</td>\n",
       "      <td>283.00</td>\n",
       "    </tr>\n",
       "    <tr>\n",
       "      <th>2010</th>\n",
       "      <td>2.00</td>\n",
       "      <td>288.00</td>\n",
       "      <td>5.66</td>\n",
       "      <td>284.00</td>\n",
       "      <td>286.00</td>\n",
       "      <td>288.00</td>\n",
       "      <td>290.00</td>\n",
       "      <td>292.00</td>\n",
       "    </tr>\n",
       "    <tr>\n",
       "      <th>2012</th>\n",
       "      <td>2.00</td>\n",
       "      <td>305.00</td>\n",
       "      <td>63.64</td>\n",
       "      <td>260.00</td>\n",
       "      <td>282.50</td>\n",
       "      <td>305.00</td>\n",
       "      <td>327.50</td>\n",
       "      <td>350.00</td>\n",
       "    </tr>\n",
       "    <tr>\n",
       "      <th>2013</th>\n",
       "      <td>2.00</td>\n",
       "      <td>228.00</td>\n",
       "      <td>4.24</td>\n",
       "      <td>225.00</td>\n",
       "      <td>226.50</td>\n",
       "      <td>228.00</td>\n",
       "      <td>229.50</td>\n",
       "      <td>231.00</td>\n",
       "    </tr>\n",
       "    <tr>\n",
       "      <th>2014</th>\n",
       "      <td>3.00</td>\n",
       "      <td>260.33</td>\n",
       "      <td>13.61</td>\n",
       "      <td>245.00</td>\n",
       "      <td>255.00</td>\n",
       "      <td>265.00</td>\n",
       "      <td>268.00</td>\n",
       "      <td>271.00</td>\n",
       "    </tr>\n",
       "    <tr>\n",
       "      <th>2015</th>\n",
       "      <td>0.00</td>\n",
       "      <td>NaN</td>\n",
       "      <td>NaN</td>\n",
       "      <td>NaN</td>\n",
       "      <td>NaN</td>\n",
       "      <td>NaN</td>\n",
       "      <td>NaN</td>\n",
       "      <td>NaN</td>\n",
       "    </tr>\n",
       "    <tr>\n",
       "      <th>2017</th>\n",
       "      <td>2.00</td>\n",
       "      <td>173.50</td>\n",
       "      <td>19.09</td>\n",
       "      <td>160.00</td>\n",
       "      <td>166.75</td>\n",
       "      <td>173.50</td>\n",
       "      <td>180.25</td>\n",
       "      <td>187.00</td>\n",
       "    </tr>\n",
       "    <tr>\n",
       "      <th>2018</th>\n",
       "      <td>1.00</td>\n",
       "      <td>48.00</td>\n",
       "      <td>NaN</td>\n",
       "      <td>48.00</td>\n",
       "      <td>48.00</td>\n",
       "      <td>48.00</td>\n",
       "      <td>48.00</td>\n",
       "      <td>48.00</td>\n",
       "    </tr>\n",
       "  </tbody>\n",
       "</table>\n",
       "</div>"
      ],
      "text/plain": [
       "      count   mean    std    min    25%    50%    75%    max\n",
       "Year                                                        \n",
       "1984   1.00 200.00    NaN 200.00 200.00 200.00 200.00 200.00\n",
       "1990   1.00 286.00    NaN 286.00 286.00 286.00 286.00 286.00\n",
       "1993   1.00 318.00    NaN 318.00 318.00 318.00 318.00 318.00\n",
       "1995   1.00 321.00    NaN 321.00 321.00 321.00 321.00 321.00\n",
       "1999   1.00 321.00    NaN 321.00 321.00 321.00 321.00 321.00\n",
       "2000   1.00 206.00    NaN 206.00 206.00 206.00 206.00 206.00\n",
       "2002   4.00 322.25 154.91 151.00 236.50 310.00 395.75 518.00\n",
       "2003   2.00 305.00 106.07 230.00 267.50 305.00 342.50 380.00\n",
       "2004   6.00 296.33 100.94 131.00 244.75 334.50 357.50 398.00\n",
       "2005   4.00 318.50  72.99 235.00 291.25 313.00 340.25 413.00\n",
       "2006   5.00 303.60  42.93 242.00 280.00 317.00 328.00 351.00\n",
       "2007   2.00 208.50  43.13 178.00 193.25 208.50 223.75 239.00\n",
       "2008   4.00 283.50  51.62 226.00 256.00 279.50 307.00 349.00\n",
       "2009   3.00 263.00  17.58 250.00 253.00 256.00 269.50 283.00\n",
       "2010   2.00 288.00   5.66 284.00 286.00 288.00 290.00 292.00\n",
       "2012   2.00 305.00  63.64 260.00 282.50 305.00 327.50 350.00\n",
       "2013   2.00 228.00   4.24 225.00 226.50 228.00 229.50 231.00\n",
       "2014   3.00 260.33  13.61 245.00 255.00 265.00 268.00 271.00\n",
       "2015   0.00    NaN    NaN    NaN    NaN    NaN    NaN    NaN\n",
       "2017   2.00 173.50  19.09 160.00 166.75 173.50 180.25 187.00\n",
       "2018   1.00  48.00    NaN  48.00  48.00  48.00  48.00  48.00"
      ]
     },
     "execution_count": 123,
     "metadata": {},
     "output_type": "execute_result"
    }
   ],
   "source": [
    "bmw_df['Run'] = bmw_df['Run'].str.replace(\"thd.\",\"\")\n",
    "bmw_df['Run'] = pd.to_numeric(bmw_df['Run'], errors='coerce')\n",
    "bmw_df.groupby(['Year']).describe()['Run']"
   ]
  },
  {
   "cell_type": "code",
   "execution_count": 124,
   "metadata": {},
   "outputs": [
    {
     "data": {
      "image/png": "[encoded data removed]",
      "text/plain": [
       "<Figure size 640x480 with 1 Axes>"
      ]
     },
     "metadata": {},
     "output_type": "display_data"
    }
   ],
   "source": [
    "\n",
    "bmw_df_price = bmw_df.sort_values(['Year'], ascending=[True])\n",
    "bmw_df_price = pd.DataFrame(bmw_df_price,columns=['Year','Price'])\n",
    "bmw_df_price.plot(x ='Year', y='Price', kind = 'scatter')\n",
    "plt.ylabel('Price, \\u20ac')\n",
    "plt.show()\n"
   ]
  },
  {
   "cell_type": "code",
   "execution_count": 125,
   "metadata": {},
   "outputs": [
    {
     "data": {
      "image/png": "[encoded data removed]",
      "text/plain": [
       "<Figure size 640x480 with 1 Axes>"
      ]
     },
     "metadata": {},
     "output_type": "display_data"
    }
   ],
   "source": [
    "bmw_df_run = bmw_df.sort_values(['Run'], ascending=[True])\n",
    "bmw_df_run = pd.DataFrame(bmw_df_run,columns=['Run','Price'])\n",
    "bmw_df_run.plot(x ='Run', y='Price', kind = 'scatter')\n",
    "plt.xlabel('Run, thousands of km')\n",
    "plt.ylabel('Price, \\u20ac')\n",
    "plt.show()"
   ]
  },
  {
   "cell_type": "code",
   "execution_count": 126,
   "metadata": {},
   "outputs": [
    {
     "data": {
      "image/png": "[encoded data removed]",
      "text/plain": [
       "<Figure size 640x480 with 1 Axes>"
      ]
     },
     "metadata": {},
     "output_type": "display_data"
    }
   ],
   "source": [
    "bmw_df['Volume'] = bmw_df['Volume'].str.replace(\"D\",\"\")\n",
    "bmw_df['Volume'] = bmw_df['Volume'].str.replace(\"B\",\"\")\n",
    "bmw_df['Volume'] = bmw_df['Volume'].str.replace(\"H\",\"\")\n",
    "bmw_df_volume = bmw_df.sort_values(['Volume'], ascending=[True])\n",
    "bmw_df_volume = pd.DataFrame(bmw_df_volume,columns=['Volume','Price'])\n",
    "bmw_df_volume.plot(x ='Volume', y='Price', kind = 'scatter')\n",
    "plt.ylabel('Price, \\u20ac')\n",
    "plt.xlabel('Engine Volume, Liters')\n",
    "plt.show()"
   ]
  },
  {
   "cell_type": "code",
   "execution_count": 127,
   "metadata": {},
   "outputs": [
    {
     "data": {
      "text/plain": [
       "Text(0.5, 1.0, 'The median car price, €')"
      ]
     },
     "execution_count": 127,
     "metadata": {},
     "output_type": "execute_result"
    },
    {
     "data": {
      "image/png": "[encoded data removed]",
      "text/plain": [
       "<Figure size 640x480 with 2 Axes>"
      ]
     },
     "metadata": {},
     "output_type": "display_data"
    }
   ],
   "source": [
    "bmw_map = bmw_df[['Year', 'Volume', 'Run', 'Price', 'Model']]\n",
    "bmw_map = bmw_map.astype({'Year':'float'})\n",
    "\n",
    "bmw_table = bmw_map.pivot_table(index='Year', columns='Volume', values='Price', aggfunc=np.median)\n",
    "bmw_table\n",
    "\n",
    "bmw_table.style.background_gradient(cmap='summer')\n",
    "ax = sns.heatmap(data=bmw_table, c, annot=True, fmt='g')\n",
    "\n",
    "ax.set_xlabel('Engine Volume, Liters')\n",
    "ax.set_title('The median car price, \\u20ac')"
   ]
  },
  {
   "cell_type": "code",
   "execution_count": 119,
   "metadata": {},
   "outputs": [
    {
     "data": {
      "text/plain": [
       "Text(0.5, 1.0, 'The median car price, €')"
      ]
     },
     "execution_count": 119,
     "metadata": {},
     "output_type": "execute_result"
    },
    {
     "data": {
      "image/png": "[encoded data removed]",
      "text/plain": [
       "<Figure size 1000x1000 with 2 Axes>"
      ]
     },
     "metadata": {},
     "output_type": "display_data"
    }
   ],
   "source": [
    "\n",
    "bmw_table = bmw_map.pivot_table(index='Year', columns='Model', values='Price', aggfunc=np.median)\n",
    "bmw_table\n",
    "plt.figure(figsize=(10,10))\n",
    "bmw_table.style.background_gradient(cmap=sns.light_palette(\"green\", as_cmap=True)).highlight_max('red')\n",
    "ax = sns.heatmap(data=bmw_table)\n",
    "ax.set_xlabel('Model')\n",
    "ax.set_title('The median car price, \\u20ac')"
   ]
  }
 ],
 "metadata": {
  "kernelspec": {
   "display_name": "Python 3.10.7 64-bit",
   "language": "python",
   "name": "python3"
  },
  "language_info": {
   "codemirror_mode": {
    "name": "ipython",
    "version": 3
   },
   "file_extension": ".py",
   "mimetype": "text/x-python",
   "name": "python",
   "nbconvert_exporter": "python",
   "pygments_lexer": "ipython3",
   "version": "3.10.7"
  },
  "orig_nbformat": 4,
  "vscode": {
   "interpreter": {
    "hash": "b59f46532546b29865c374eeeca43d00bba841fcb2de78eee9c1ff7ff45bdea2"
   }
  }
 },
 "nbformat": 4,
 "nbformat_minor": 2
}
